{
 "cells": [
  {
   "cell_type": "markdown",
   "metadata": {
    "id": "mypsfuzIF8bL"
   },
   "source": [
    "## ACTIVIDAD 3\n",
    "## 1. Introducción teórica"
   ]
  },
  {
   "cell_type": "markdown",
   "metadata": {
    "id": "GAAtWU4-GTFu"
   },
   "source": [
    "* **El aprendizaje supervisado** es una técnica, la cual trabaja por medio de etiquetas en donde se busca encontrar un algoritmo en donde se establecen relaciones entre las características y la salida, teniendo como resultado un modelo o función del conjunto de datos. Los modelos de aprendizaje supervisados se dividen en dos tipos: regresión y clasificación, cuya distinción depende del tipo de variable objetivo. Algunos ejemplos de aplicaciones de aprendizaje supervisado son detección de fraudes, predicción de ventas y reconocimiento de objetos. Los algoritmos más reconocidos e implementados en PySpark de aprendizaje supervisado son:\n",
    "  1.  Regresión lineal y logística\n",
    "\n",
    "  2.  Árboles de decisión, Random Forest, GBT\n",
    "\n",
    "  3.  Multilayer Perceptron Classifier (red neuronal multicapa)\n",
    "\n",
    "  4.  Linear Support Vector Machine (LinearSVC)\n",
    "\n",
    "\n",
    "* **El aprendizaje no supervisado** a diferencia del supervisado, este no requiere de etiquetas o datos estructurados. Los modelos de aprendizaje no supervisados se utilizan para tres tareas principales: agrupación, asociación y reducción de la dimensionalidad. Algunos ejemplos de aplicaciones de aprendizaje supervisado son sistemas de recomendación, imagenología y secciones de noticias: Google News utiliza el aprendizaje no supervisado para categorizar artículos.\n",
    "\n",
    "Los algoritmos más reconocidos e implementados en PySpark de aprendizaje no supervisado son:\n",
    "\n",
    "  1. K-means\n",
    "\n",
    "  2. PCA\n",
    "\n",
    "  3. Gaussian Mixture\n",
    "\n",
    "\n",
    "\n",
    "\n"
   ]
  },
  {
   "cell_type": "markdown",
   "metadata": {
    "id": "3fcokxcTOtJT"
   },
   "source": [
    "## Inicialización de spark\n"
   ]
  },
  {
   "cell_type": "code",
   "execution_count": 1,
   "metadata": {
    "id": "KXK_UYqvEPPZ"
   },
   "outputs": [],
   "source": [
    "from pyspark.sql import SparkSession\n",
    "import pyspark.sql.functions as F\n",
    "spark = SparkSession.builder \\\n",
    "    .appName(\"MuestreoSeguridad\") \\\n",
    "    .getOrCreate()"
   ]
  },
  {
   "cell_type": "code",
   "execution_count": 3,
   "metadata": {
    "id": "ZxoN9CRQWotb"
   },
   "outputs": [],
   "source": [
    "df = spark.read.csv(r\"C:\\Users\\fanny\\Documents\\Big_data\\Documents\\GUIDE_Train.csv\", header=True,  inferSchema=True)"
   ]
  },
  {
   "cell_type": "markdown",
   "metadata": {
    "id": "kIRr1KdGT_-6"
   },
   "source": [
    "## Selección de Datos"
   ]
  },
  {
   "cell_type": "code",
   "execution_count": 4,
   "metadata": {
    "id": "o__zJ_sE6u8p"
   },
   "outputs": [],
   "source": [
    "df = df.drop(\"Timestamp\")"
   ]
  },
  {
   "cell_type": "code",
   "execution_count": 5,
   "metadata": {
    "id": "wKE5h2DMYD8j"
   },
   "outputs": [
    {
     "name": "stdout",
     "output_type": "stream",
     "text": [
      "+-------------------+-------+\n",
      "|           Category|  count|\n",
      "+-------------------+-------+\n",
      "|  CommandAndControl| 826691|\n",
      "| SuspiciousActivity|1003933|\n",
      "| CredentialStealing|    388|\n",
      "|             Impact| 750885|\n",
      "|         Collection|  14753|\n",
      "|          Discovery| 129342|\n",
      "|      InitialAccess|4293041|\n",
      "|         WebExploit|     38|\n",
      "|    LateralMovement|  41754|\n",
      "|          Execution| 267594|\n",
      "|         Ransomware|  18974|\n",
      "|     DefenseEvasion|  46662|\n",
      "|            Exploit|   4648|\n",
      "|        Persistence|  72682|\n",
      "|PrivilegeEscalation|   4671|\n",
      "|            Malware| 144081|\n",
      "|   UnwantedSoftware|  18211|\n",
      "|   CredentialAccess| 300518|\n",
      "|       Exfiltration|1577965|\n",
      "|      Weaponization|      6|\n",
      "+-------------------+-------+\n",
      "\n"
     ]
    }
   ],
   "source": [
    "# Ver cuántas categorías hay y cuántos registros tiene cada una\n",
    "df.groupBy(\"Category\").count().show()"
   ]
  },
  {
   "cell_type": "code",
   "execution_count": 6,
   "metadata": {
    "id": "MYZDmoJrY2pR"
   },
   "outputs": [
    {
     "name": "stdout",
     "output_type": "stream",
     "text": [
      "Número de registros: 9516837\n",
      "Número de columnas: 44\n"
     ]
    }
   ],
   "source": [
    "print(\"Número de registros: \" + str(df.count()))\n",
    "print(\"Número de columnas: \" + str(len(df.columns)))"
   ]
  },
  {
   "cell_type": "code",
   "execution_count": 7,
   "metadata": {
    "id": "v2UDgYUMc0e4"
   },
   "outputs": [],
   "source": [
    "partitioning_var1 = \"Category\"\n",
    "partitioning_var2 = \"IncidentGrade\""
   ]
  },
  {
   "cell_type": "code",
   "execution_count": 8,
   "metadata": {
    "id": "iTMJfbZic2JW"
   },
   "outputs": [
    {
     "name": "stdout",
     "output_type": "stream",
     "text": [
      "\n",
      "Calculando proporciones para combinaciones de 'Category' y 'IncidentGrade'...\n",
      "Total de registros en D: 9516837\n",
      "+------------------+--------------+-------+--------------------+\n",
      "|Category          |IncidentGrade |count  |proportion          |\n",
      "+------------------+--------------+-------+--------------------+\n",
      "|InitialAccess     |TruePositive  |2266513|0.23815822420831628 |\n",
      "|Exfiltration      |BenignPositive|1080813|0.11356851020985229 |\n",
      "|InitialAccess     |BenignPositive|1063722|0.11177264042664595 |\n",
      "|InitialAccess     |FalsePositive |954880 |0.10033585738623033 |\n",
      "|CommandAndControl |BenignPositive|563544 |0.059215472535675454|\n",
      "|SuspiciousActivity|BenignPositive|507279 |0.053303319159506465|\n",
      "|Exfiltration      |FalsePositive |368866 |0.038759306269509505|\n",
      "|SuspiciousActivity|TruePositive  |356286 |0.03743743851029496 |\n",
      "|Impact            |BenignPositive|336977 |0.03540850809990757 |\n",
      "|Impact            |TruePositive  |242524 |0.025483676982173804|\n",
      "|Impact            |FalsePositive |171348 |0.01800472152670052 |\n",
      "|CommandAndControl |FalsePositive |145508 |0.015289533696962551|\n",
      "|Execution         |BenignPositive|134108 |0.014091656713254625|\n",
      "|SuspiciousActivity|FalsePositive |131427 |0.01380994546822647 |\n",
      "|CredentialAccess  |BenignPositive|118709 |0.012473577092893364|\n",
      "|CommandAndControl |TruePositive  |116564 |0.012248187081485161|\n",
      "|CredentialAccess  |TruePositive  |109912 |0.011549215353798747|\n",
      "|Exfiltration      |TruePositive  |101077 |0.010620860691425102|\n",
      "|Malware           |BenignPositive|91937  |0.009660457565890852|\n",
      "|Execution         |FalsePositive |87870  |0.00923310969810663 |\n",
      "+------------------+--------------+-------+--------------------+\n",
      "only showing top 20 rows\n",
      "\n"
     ]
    }
   ],
   "source": [
    "print(f\"\\nCalculando proporciones para combinaciones de '{partitioning_var1}' y '{partitioning_var2}'...\")\n",
    "\n",
    "total_count = df.count()\n",
    "print(f\"Total de registros en D: {total_count}\")\n",
    "\n",
    "partition_counts = df.groupBy(partitioning_var1, partitioning_var2).count()\n",
    "\n",
    "partition_proportions = partition_counts.withColumn(\"proportion\", F.col(\"count\") / total_count)\n",
    "partition_proportions.orderBy(F.col(\"count\").desc()).show(truncate=False)"
   ]
  },
  {
   "cell_type": "code",
   "execution_count": 9,
   "metadata": {
    "id": "voZho7t3dDlQ"
   },
   "outputs": [],
   "source": [
    "cond_p1 = (F.col(\"Category\") == 'InitialAccess') & (F.col(\"IncidentGrade\") == 'TruePositive')\n",
    "cond_p2 = (F.col(\"Category\") == 'Exfiltration') & (F.col(\"IncidentGrade\") == 'BenignPositive')\n",
    "cond_p3 = (F.col(\"Category\") == 'InitialAccess') & (F.col(\"IncidentGrade\") == 'BenignPositive')\n",
    "cond_p4 = (F.col(\"Category\") == 'InitialAccess') & (F.col(\"IncidentGrade\") == 'FalsePositive')\n",
    "cond_p5 = (F.col(\"Category\") == 'CommandAndControl') & (F.col(\"IncidentGrade\") == 'BenignPositive')\n",
    "cond_p6 = (F.col(\"Category\") == 'SuspiciousActivity') & (F.col(\"IncidentGrade\") == 'BenignPositive')\n",
    "\n",
    "prop_p1 = 0.23815822420831628\n",
    "prop_p2 = 0.11356851020985229\n",
    "prop_p3 = 0.11177264042664595\n",
    "prop_p4 = 0.10033585738623033\n",
    "prop_p5 = 0.059215472535675454\n",
    "prop_p6 = 0.053303319159506465"
   ]
  },
  {
   "cell_type": "code",
   "execution_count": 10,
   "metadata": {
    "id": "ISHQv8sWeHNo"
   },
   "outputs": [
    {
     "name": "stdout",
     "output_type": "stream",
     "text": [
      "Reglas de particionamiento definidas:\n",
      "- P1_InitAccess_TruePos: Estimación 23.8158%\n",
      "- P2_Exfiltration_BenignPos: Estimación 11.3569%\n",
      "- P3_InitAccess_BenignPos: Estimación 11.1773%\n",
      "- P4_InitAccess_FalsePos: Estimación 10.0336%\n",
      "- P5_CmdCtrl_BenignPos: Estimación 5.9215%\n",
      "- P6_SuspAct_BenignPos: Estimación 5.3303%\n",
      "\n",
      "Suma total de proporciones estimadas: 0.6764\n"
     ]
    }
   ],
   "source": [
    "partition_rules = [\n",
    "    {\n",
    "        \"name\": \"P1_InitAccess_TruePos\",\n",
    "        \"filter_expr\": cond_p1,\n",
    "        \"est_proportion\": prop_p1\n",
    "    },\n",
    "    {\n",
    "        \"name\": \"P2_Exfiltration_BenignPos\",\n",
    "        \"filter_expr\": cond_p2,\n",
    "        \"est_proportion\": prop_p2\n",
    "    },\n",
    "    {\n",
    "        \"name\": \"P3_InitAccess_BenignPos\",\n",
    "        \"filter_expr\": cond_p3,\n",
    "        \"est_proportion\": prop_p3\n",
    "    },\n",
    "    {\n",
    "        \"name\": \"P4_InitAccess_FalsePos\",\n",
    "        \"filter_expr\": cond_p4,\n",
    "        \"est_proportion\": prop_p4\n",
    "    },\n",
    "    {\n",
    "        \"name\": \"P5_CmdCtrl_BenignPos\",\n",
    "        \"filter_expr\": cond_p5,\n",
    "        \"est_proportion\": prop_p5\n",
    "     },\n",
    "     {\n",
    "        \"name\": \"P6_SuspAct_BenignPos\",\n",
    "        \"filter_expr\": cond_p6,\n",
    "        \"est_proportion\": prop_p6\n",
    "     }\n",
    "]\n",
    "\n",
    "print(\"Reglas de particionamiento definidas:\")\n",
    "total_prop_check = 0\n",
    "for rule in partition_rules:\n",
    "    print(f\"- {rule['name']}: Estimación {rule['est_proportion']:.4%}\")\n",
    "    total_prop_check += rule['est_proportion']\n",
    "print(f\"\\nSuma total de proporciones estimadas: {total_prop_check:.4f}\")"
   ]
  },
  {
   "cell_type": "code",
   "execution_count": 11,
   "metadata": {
    "id": "4T5EW8GfeJs6"
   },
   "outputs": [
    {
     "name": "stdout",
     "output_type": "stream",
     "text": [
      "\n",
      "Filtrando para la partición: P1_InitAccess_TruePos\n",
      "Condición: Column<'((Category = InitialAccess) AND (IncidentGrade = TruePositive))'>\n",
      "Verificación para P1_InitAccess_TruePos:\n",
      "+-------------+-----+----------+-------+----------+----------+-------------+---------------+-------------+-------------+--------------+-----------------+------------+--------+------+---------+------+----------+----------+---------------+-----------+----------+----------------+--------------+-----------+-----------------+-----------------+-------------+---------------+------------------+------------+--------+----------+--------------+------------+-----+--------+---------+-----------------+--------------+-----------+-----------+-----+-----+\n",
      "|Id           |OrgId|IncidentId|AlertId|DetectorId|AlertTitle|Category     |MitreTechniques|IncidentGrade|ActionGrouped|ActionGranular|EntityType       |EvidenceRole|DeviceId|Sha256|IpAddress|Url   |AccountSid|AccountUpn|AccountObjectId|AccountName|DeviceName|NetworkMessageId|EmailClusterId|RegistryKey|RegistryValueName|RegistryValueData|ApplicationId|ApplicationName|OAuthApplicationId|ThreatFamily|FileName|FolderPath|ResourceIdName|ResourceType|Roles|OSFamily|OSVersion|AntispamDirection|SuspicionLevel|LastVerdict|CountryCode|State|City |\n",
      "+-------------+-----+----------+-------+----------+----------+-------------+---------------+-------------+-------------+--------------+-----------------+------------+--------+------+---------+------+----------+----------+---------------+-----------+----------+----------------+--------------+-----------+-----------------+-----------------+-------------+---------------+------------------+------------+--------+----------+--------------+------------+-----+--------+---------+-----------------+--------------+-----------+-----------+-----+-----+\n",
      "|180388628218 |0    |612       |123247 |7         |6         |InitialAccess|NULL           |TruePositive |NULL         |NULL          |Ip               |Related     |98799   |138268|27       |160396|441377    |673934    |425863         |453297     |153085    |529644          |NULL          |1631       |635              |860              |2251         |3421           |881               |NULL        |289573  |117668    |3586          |NULL        |NULL |5       |66       |NULL             |NULL          |NULL       |31         |6    |3    |\n",
      "|1073741827836|72   |70        |831157 |4         |3         |InitialAccess|NULL           |TruePositive |NULL         |NULL          |User             |Impacted    |98799   |138268|360606   |160396|4070      |5532      |4086           |4256       |153085    |529644          |NULL          |1631       |635              |860              |2251         |3421           |881               |NULL        |289573  |117668    |3586          |NULL        |NULL |5       |66       |NULL             |NULL          |NULL       |242        |1445 |10630|\n",
      "|1305670059931|23   |107       |409854 |4         |3         |InitialAccess|NULL           |TruePositive |NULL         |NULL          |Ip               |Related     |98799   |138268|279      |160396|441377    |673934    |425863         |453297     |153085    |529644          |NULL          |1631       |635              |860              |2251         |3421           |881               |NULL        |289573  |117668    |3586          |NULL        |NULL |5       |66       |NULL             |NULL          |NULL       |7          |50   |46   |\n",
      "|824633723860 |75   |478       |939479 |4         |3         |InitialAccess|NULL           |TruePositive |NULL         |NULL          |CloudLogonRequest|Related     |98799   |138268|360606   |160396|441377    |673934    |425863         |453297     |153085    |529644          |NULL          |1631       |635              |860              |2251         |3421           |881               |NULL        |289573  |117668    |3586          |NULL        |NULL |5       |66       |NULL             |NULL          |NULL       |242        |1445 |10630|\n",
      "|489626273557 |0    |211       |160158 |0         |0         |InitialAccess|T1078;T1078.004|TruePositive |NULL         |NULL          |CloudLogonRequest|Related     |98799   |138268|360606   |160396|441377    |673934    |425863         |453297     |153085    |529644          |NULL          |1631       |635              |860              |2251         |3421           |881               |NULL        |289573  |117668    |3586          |NULL        |NULL |5       |66       |NULL             |NULL          |NULL       |242        |1445 |10630|\n",
      "+-------------+-----+----------+-------+----------+----------+-------------+---------------+-------------+-------------+--------------+-----------------+------------+--------+------+---------+------+----------+----------+---------------+-----------+----------+----------------+--------------+-----------+-----------------+-----------------+-------------+---------------+------------------+------------+--------+----------+--------------+------------+-----+--------+---------+-----------------+--------------+-----------+-----------+-----+-----+\n",
      "only showing top 5 rows\n",
      "\n",
      "Registros encontrados en P1_InitAccess_TruePos: 2266513\n",
      "\n",
      "Filtrando para la partición: P2_Exfiltration_BenignPos\n",
      "Condición: Column<'((Category = Exfiltration) AND (IncidentGrade = BenignPositive))'>\n",
      "Verificación para P2_Exfiltration_BenignPos:\n",
      "+-------------+-----+----------+-------+----------+----------+------------+---------------+--------------+-------------+--------------+-----------+------------+--------+------+---------+------+----------+----------+---------------+-----------+----------+----------------+--------------+-----------+-----------------+-----------------+-------------+---------------+------------------+------------+--------+----------+--------------+------------+-----+--------+---------+-----------------+--------------+-----------+-----------+-----+-----+\n",
      "|Id           |OrgId|IncidentId|AlertId|DetectorId|AlertTitle|Category    |MitreTechniques|IncidentGrade |ActionGrouped|ActionGranular|EntityType |EvidenceRole|DeviceId|Sha256|IpAddress|Url   |AccountSid|AccountUpn|AccountObjectId|AccountName|DeviceName|NetworkMessageId|EmailClusterId|RegistryKey|RegistryValueName|RegistryValueData|ApplicationId|ApplicationName|OAuthApplicationId|ThreatFamily|FileName|FolderPath|ResourceIdName|ResourceType|Roles|OSFamily|OSVersion|AntispamDirection|SuspicionLevel|LastVerdict|CountryCode|State|City |\n",
      "+-------------+-----+----------+-------+----------+----------+------------+---------------+--------------+-------------+--------------+-----------+------------+--------+------+---------+------+----------+----------+---------------+-----------+----------+----------------+--------------+-----------+-----------------+-----------------+-------------+---------------+------------------+------------+--------+----------+--------------+------------+-----+--------+---------+-----------------+--------------+-----------+-----------+-----+-----+\n",
      "|1400159339557|125  |38679     |47423  |313       |3919      |Exfiltration|NULL           |BenignPositive|NULL         |NULL          |MailMessage|Impacted    |98799   |138268|360606   |160396|441377    |34744     |425863         |453297     |153085    |1082            |NULL          |1631       |635              |860              |2251         |3421           |881               |NULL        |289573  |117668    |3586          |NULL        |NULL |5       |66       |NULL             |NULL          |NULL       |242        |1445 |10630|\n",
      "|1340029797776|592  |53360     |215453 |933       |9966      |Exfiltration|NULL           |BenignPositive|NULL         |NULL          |File       |Impacted    |98799   |10713 |360606   |160396|441377    |673934    |425863         |453297     |153085    |529644          |NULL          |1631       |635              |860              |2251         |3421           |881               |NULL        |12633   |3509      |3586          |NULL        |NULL |5       |66       |NULL             |NULL          |NULL       |242        |1445 |10630|\n",
      "|1486058685492|16   |203600    |643809 |24        |30456     |Exfiltration|NULL           |BenignPositive|NULL         |NULL          |MailMessage|Impacted    |98799   |138268|360606   |160396|441377    |144634    |425863         |453297     |153085    |316961          |NULL          |1631       |635              |860              |2251         |3421           |881               |NULL        |289573  |117668    |3586          |NULL        |NULL |5       |66       |NULL             |NULL          |NULL       |242        |1445 |10630|\n",
      "|1374389538210|2    |11288     |3523   |15        |13        |Exfiltration|NULL           |BenignPositive|NULL         |NULL          |File       |Impacted    |98799   |138268|360606   |160396|441377    |673934    |425863         |453297     |153085    |529644          |NULL          |1631       |635              |860              |2251         |3421           |881               |NULL        |125392  |17280     |3586          |NULL        |NULL |5       |66       |NULL             |NULL          |NULL       |242        |1445 |10630|\n",
      "|1245540520650|91   |628       |36262  |180       |15309     |Exfiltration|NULL           |BenignPositive|NULL         |NULL          |Ip         |Related     |98799   |138268|646      |160396|441377    |673934    |425863         |453297     |153085    |529644          |NULL          |1631       |635              |860              |2251         |3421           |881               |NULL        |289573  |117668    |3586          |NULL        |NULL |5       |66       |NULL             |NULL          |NULL       |242        |1445 |10630|\n",
      "+-------------+-----+----------+-------+----------+----------+------------+---------------+--------------+-------------+--------------+-----------+------------+--------+------+---------+------+----------+----------+---------------+-----------+----------+----------------+--------------+-----------+-----------------+-----------------+-------------+---------------+------------------+------------+--------+----------+--------------+------------+-----+--------+---------+-----------------+--------------+-----------+-----------+-----+-----+\n",
      "only showing top 5 rows\n",
      "\n",
      "Registros encontrados en P2_Exfiltration_BenignPos: 1080813\n",
      "\n",
      "Filtrando para la partición: P3_InitAccess_BenignPos\n",
      "Condición: Column<'((Category = InitialAccess) AND (IncidentGrade = BenignPositive))'>\n",
      "Verificación para P3_InitAccess_BenignPos:\n",
      "+-------------+-----+----------+-------+----------+----------+-------------+---------------+--------------+-------------+--------------+-------------+------------+--------+------+---------+------+----------+----------+---------------+-----------+----------+----------------+--------------+-----------+-----------------+-----------------+-------------+---------------+------------------+------------+--------+----------+--------------+---------------+-----+--------+---------+-----------------+--------------+--------------+-----------+-----+-----+\n",
      "|Id           |OrgId|IncidentId|AlertId|DetectorId|AlertTitle|Category     |MitreTechniques|IncidentGrade |ActionGrouped|ActionGranular|EntityType   |EvidenceRole|DeviceId|Sha256|IpAddress|Url   |AccountSid|AccountUpn|AccountObjectId|AccountName|DeviceName|NetworkMessageId|EmailClusterId|RegistryKey|RegistryValueName|RegistryValueData|ApplicationId|ApplicationName|OAuthApplicationId|ThreatFamily|FileName|FolderPath|ResourceIdName|ResourceType   |Roles|OSFamily|OSVersion|AntispamDirection|SuspicionLevel|LastVerdict   |CountryCode|State|City |\n",
      "+-------------+-----+----------+-------+----------+----------+-------------+---------------+--------------+-------------+--------------+-------------+------------+--------+------+---------+------+----------+----------+---------------+-----------+----------+----------------+--------------+-----------+-----------------+-----------------+-------------+---------------+------------------+------------+--------+----------+--------------+---------------+-----+--------+---------+-----------------+--------------+--------------+-----------+-----+-----+\n",
      "|652835032220 |376  |93925     |289288 |447       |473       |InitialAccess|NULL           |BenignPositive|NULL         |NULL          |AzureResource|Impacted    |17769   |138268|360606   |160396|441377    |673934    |425863         |453297     |25710     |529644          |NULL          |1631       |635              |860              |2251         |3421           |881               |NULL        |289573  |117668    |251           |Virtual Machine|NULL |5       |66       |NULL             |NULL          |NULL          |242        |1445 |10630|\n",
      "|781684051738 |2119 |6622      |23284  |13        |11        |InitialAccess|T1566          |BenignPositive|NULL         |NULL          |MailMessage  |Related     |98799   |138268|360606   |160396|441377    |160691    |425863         |453297     |153085    |1842            |NULL          |1631       |635              |860              |2251         |3421           |881               |NULL        |289573  |117668    |3586          |NULL           |NULL |5       |66       |NULL             |NULL          |NULL          |242        |1445 |10630|\n",
      "|1365799604919|428  |54837     |239519 |1         |1         |InitialAccess|T1566.002      |BenignPositive|NULL         |NULL          |Url          |Related     |98799   |138268|360606   |1557  |441377    |673934    |425863         |453297     |153085    |529644          |NULL          |1631       |635              |860              |2251         |3421           |881               |NULL        |289573  |117668    |3586          |NULL           |NULL |5       |66       |NULL             |NULL          |Malicious     |242        |1445 |10630|\n",
      "|755914246870 |789  |46895     |147425 |6         |5         |InitialAccess|T1566          |BenignPositive|NULL         |NULL          |MailMessage  |Related     |98799   |138268|360606   |160396|441377    |1035      |425863         |453297     |153085    |285810          |NULL          |1631       |635              |860              |2251         |3421           |881               |NULL        |289573  |117668    |3586          |NULL           |NULL |5       |66       |Inbound          |NULL          |NoThreatsFound|242        |1445 |10630|\n",
      "|1683627183859|68   |125436    |462477 |6         |5         |InitialAccess|T1566          |BenignPositive|NULL         |NULL          |Mailbox      |Impacted    |98799   |138268|360606   |160396|63316     |57707     |59030          |65131      |153085    |529644          |NULL          |1631       |635              |860              |2251         |3421           |881               |NULL        |289573  |117668    |3586          |NULL           |NULL |5       |66       |NULL             |NULL          |NoThreatsFound|242        |1445 |10630|\n",
      "+-------------+-----+----------+-------+----------+----------+-------------+---------------+--------------+-------------+--------------+-------------+------------+--------+------+---------+------+----------+----------+---------------+-----------+----------+----------------+--------------+-----------+-----------------+-----------------+-------------+---------------+------------------+------------+--------+----------+--------------+---------------+-----+--------+---------+-----------------+--------------+--------------+-----------+-----+-----+\n",
      "only showing top 5 rows\n",
      "\n",
      "Registros encontrados en P3_InitAccess_BenignPos: 1063722\n",
      "\n",
      "Filtrando para la partición: P4_InitAccess_FalsePos\n",
      "Condición: Column<'((Category = InitialAccess) AND (IncidentGrade = FalsePositive))'>\n",
      "Verificación para P4_InitAccess_FalsePos:\n",
      "+-------------+-----+----------+-------+----------+----------+-------------+---------------+-------------+-------------+--------------+-----------------+------------+--------+------+---------+------+----------+----------+---------------+-----------+----------+----------------+--------------+-----------+-----------------+-----------------+-------------+---------------+------------------+------------+--------+----------+--------------+------------+-----+--------+---------+-----------------+--------------+-----------+-----------+-----+-----+\n",
      "|Id           |OrgId|IncidentId|AlertId|DetectorId|AlertTitle|Category     |MitreTechniques|IncidentGrade|ActionGrouped|ActionGranular|EntityType       |EvidenceRole|DeviceId|Sha256|IpAddress|Url   |AccountSid|AccountUpn|AccountObjectId|AccountName|DeviceName|NetworkMessageId|EmailClusterId|RegistryKey|RegistryValueName|RegistryValueData|ApplicationId|ApplicationName|OAuthApplicationId|ThreatFamily|FileName|FolderPath|ResourceIdName|ResourceType|Roles|OSFamily|OSVersion|AntispamDirection|SuspicionLevel|LastVerdict|CountryCode|State|City |\n",
      "+-------------+-----+----------+-------+----------+----------+-------------+---------------+-------------+-------------+--------------+-----------------+------------+--------+------+---------+------+----------+----------+---------------+-----------+----------+----------------+--------------+-----------+-----------------+-----------------+-------------+---------------+------------------+------------+--------+----------+--------------+------------+-----+--------+---------+-----------------+--------------+-----------+-----------+-----+-----+\n",
      "|1056561957389|809  |58352     |712507 |423       |298       |InitialAccess|T1189          |FalsePositive|NULL         |NULL          |Url              |Related     |98799   |138268|360606   |68652 |441377    |673934    |425863         |453297     |153085    |529644          |NULL          |1631       |635              |860              |2251         |3421           |881               |NULL        |289573  |117668    |3586          |NULL        |NULL |5       |66       |NULL             |Suspicious    |Suspicious |242        |1445 |10630|\n",
      "|1322849927433|11   |417400    |825450 |0         |0         |InitialAccess|T1078;T1078.004|FalsePositive|NULL         |NULL          |Ip               |Related     |98799   |138268|30410    |160396|441377    |673934    |425863         |453297     |153085    |529644          |NULL          |1631       |635              |860              |2251         |3421           |881               |NULL        |289573  |117668    |3586          |NULL        |NULL |5       |66       |NULL             |NULL          |NULL       |8          |6    |3    |\n",
      "|1305670062855|4    |2640      |327    |8         |7         |InitialAccess|T1133          |FalsePositive|NULL         |NULL          |Machine          |Impacted    |98799   |138268|360606   |160396|441377    |673934    |425863         |453297     |182       |529644          |NULL          |1631       |635              |860              |2251         |3421           |881               |NULL        |289573  |117668    |3586          |NULL        |NULL |5       |66       |NULL             |NULL          |NULL       |242        |1445 |10630|\n",
      "|335007451478 |206  |251904    |1009993|0         |0         |InitialAccess|T1078;T1078.004|FalsePositive|NULL         |NULL          |CloudLogonRequest|Related     |98799   |138268|360606   |160396|441377    |673934    |425863         |453297     |153085    |529644          |NULL          |1631       |635              |860              |2251         |3421           |881               |NULL        |289573  |117668    |3586          |NULL        |NULL |5       |66       |NULL             |NULL          |NULL       |242        |1445 |10630|\n",
      "|541165884137 |4    |2624      |487    |8         |7         |InitialAccess|T1133          |FalsePositive|NULL         |NULL          |Machine          |Impacted    |98799   |138268|360606   |160396|441377    |673934    |425863         |453297     |263       |529644          |NULL          |1631       |635              |860              |2251         |3421           |881               |NULL        |289573  |117668    |3586          |NULL        |NULL |5       |66       |NULL             |NULL          |NULL       |242        |1445 |10630|\n",
      "+-------------+-----+----------+-------+----------+----------+-------------+---------------+-------------+-------------+--------------+-----------------+------------+--------+------+---------+------+----------+----------+---------------+-----------+----------+----------------+--------------+-----------+-----------------+-----------------+-------------+---------------+------------------+------------+--------+----------+--------------+------------+-----+--------+---------+-----------------+--------------+-----------+-----------+-----+-----+\n",
      "only showing top 5 rows\n",
      "\n",
      "Registros encontrados en P4_InitAccess_FalsePos: 954880\n",
      "\n",
      "Filtrando para la partición: P5_CmdCtrl_BenignPos\n",
      "Condición: Column<'((Category = CommandAndControl) AND (IncidentGrade = BenignPositive))'>\n",
      "Verificación para P5_CmdCtrl_BenignPos:\n",
      "+-------------+-----+----------+-------+----------+----------+-----------------+---------------+--------------+-------------+--------------+----------+------------+--------+------+---------+------+----------+----------+---------------+-----------+----------+----------------+--------------+-----------+-----------------+-----------------+-------------+---------------+------------------+------------+--------+----------+--------------+------------+-----+--------+---------+-----------------+--------------+-----------+-----------+-----+-----+\n",
      "|Id           |OrgId|IncidentId|AlertId|DetectorId|AlertTitle|Category         |MitreTechniques|IncidentGrade |ActionGrouped|ActionGranular|EntityType|EvidenceRole|DeviceId|Sha256|IpAddress|Url   |AccountSid|AccountUpn|AccountObjectId|AccountName|DeviceName|NetworkMessageId|EmailClusterId|RegistryKey|RegistryValueName|RegistryValueData|ApplicationId|ApplicationName|OAuthApplicationId|ThreatFamily|FileName|FolderPath|ResourceIdName|ResourceType|Roles|OSFamily|OSVersion|AntispamDirection|SuspicionLevel|LastVerdict|CountryCode|State|City |\n",
      "+-------------+-----+----------+-------+----------+----------+-----------------+---------------+--------------+-------------+--------------+----------+------------+--------+------+---------+------+----------+----------+---------------+-----------+----------+----------------+--------------+-----------+-----------------+-----------------+-------------+---------------+------------------+------------+--------+----------+--------------+------------+-----+--------+---------+-----------------+--------------+-----------+-----------+-----+-----+\n",
      "|1279900258736|92   |32992     |774301 |2         |2         |CommandAndControl|NULL           |BenignPositive|NULL         |NULL          |Url       |Related     |98799   |138268|360606   |13    |441377    |673934    |425863         |453297     |153085    |529644          |NULL          |1631       |635              |860              |2251         |3421           |881               |NULL        |289573  |117668    |3586          |NULL        |NULL |5       |66       |NULL             |Suspicious    |Suspicious |242        |1445 |10630|\n",
      "|163208760309 |522  |566       |705663 |2         |2         |CommandAndControl|NULL           |BenignPositive|NULL         |NULL          |Url       |Related     |98799   |138268|360606   |3306  |441377    |673934    |425863         |453297     |153085    |529644          |NULL          |1631       |635              |860              |2251         |3421           |881               |NULL        |289573  |117668    |3586          |NULL        |NULL |5       |66       |NULL             |Suspicious    |Suspicious |242        |1445 |10630|\n",
      "|1546188229482|34   |329953    |709535 |2         |2         |CommandAndControl|NULL           |BenignPositive|NULL         |NULL          |User      |Impacted    |98799   |138268|360606   |160396|30614     |50597     |31131          |33321      |153085    |529644          |NULL          |1631       |635              |860              |2251         |3421           |881               |NULL        |289573  |117668    |3586          |NULL        |NULL |5       |66       |NULL             |Suspicious    |Suspicious |242        |1445 |10630|\n",
      "|764504181928 |289  |155197    |250634 |2         |2         |CommandAndControl|NULL           |BenignPositive|NULL         |NULL          |Process   |Related     |98799   |0     |360606   |160396|441377    |673934    |425863         |453297     |153085    |529644          |NULL          |1631       |635              |860              |2251         |3421           |881               |NULL        |0       |2         |3586          |NULL        |NULL |5       |66       |NULL             |Suspicious    |Suspicious |242        |1445 |10630|\n",
      "|1683627184888|133  |17504     |757941 |2         |2         |CommandAndControl|NULL           |BenignPositive|NULL         |NULL          |Process   |Related     |98799   |0     |360606   |160396|441377    |673934    |425863         |453297     |153085    |529644          |NULL          |1631       |635              |860              |2251         |3421           |881               |NULL        |0       |4         |3586          |NULL        |NULL |5       |66       |NULL             |Suspicious    |Suspicious |242        |1445 |10630|\n",
      "+-------------+-----+----------+-------+----------+----------+-----------------+---------------+--------------+-------------+--------------+----------+------------+--------+------+---------+------+----------+----------+---------------+-----------+----------+----------------+--------------+-----------+-----------------+-----------------+-------------+---------------+------------------+------------+--------+----------+--------------+------------+-----+--------+---------+-----------------+--------------+-----------+-----------+-----+-----+\n",
      "only showing top 5 rows\n",
      "\n",
      "Registros encontrados en P5_CmdCtrl_BenignPos: 563544\n",
      "\n",
      "Filtrando para la partición: P6_SuspAct_BenignPos\n",
      "Condición: Column<'((Category = SuspiciousActivity) AND (IncidentGrade = BenignPositive))'>\n",
      "Verificación para P6_SuspAct_BenignPos:\n",
      "+-------------+-----+----------+-------+----------+----------+------------------+---------------+--------------+-------------+--------------+----------------+------------+--------+------+---------+------+----------+----------+---------------+-----------+----------+----------------+--------------+-----------+-----------------+-----------------+-------------+---------------+------------------+------------+--------+----------+--------------+------------+----------+--------+---------+-----------------+--------------+-----------+-----------+-----+-----+\n",
      "|Id           |OrgId|IncidentId|AlertId|DetectorId|AlertTitle|Category          |MitreTechniques|IncidentGrade |ActionGrouped|ActionGranular|EntityType      |EvidenceRole|DeviceId|Sha256|IpAddress|Url   |AccountSid|AccountUpn|AccountObjectId|AccountName|DeviceName|NetworkMessageId|EmailClusterId|RegistryKey|RegistryValueName|RegistryValueData|ApplicationId|ApplicationName|OAuthApplicationId|ThreatFamily|FileName|FolderPath|ResourceIdName|ResourceType|Roles     |OSFamily|OSVersion|AntispamDirection|SuspicionLevel|LastVerdict|CountryCode|State|City |\n",
      "+-------------+-----+----------+-------+----------+----------+------------------+---------------+--------------+-------------+--------------+----------------+------------+--------+------+---------+------+----------+----------+---------------+-----------+----------+----------------+--------------+-----------+-----------------+-----------------+-------------+---------------+------------------+------------+--------+----------+--------------+------------+----------+--------+---------+-----------------+--------------+-----------+-----------+-----+-----+\n",
      "|1219770713645|21   |414       |197969 |3         |4         |SuspiciousActivity|NULL           |BenignPositive|NULL         |NULL          |Process         |Related     |98799   |0     |360606   |160396|441377    |673934    |425863         |453297     |153085    |529644          |NULL          |1631       |635              |860              |2251         |3421           |881               |NULL        |0       |1694      |3586          |NULL        |NULL      |5       |66       |NULL             |Suspicious    |Suspicious |242        |1445 |10630|\n",
      "|223338303172 |201  |86074     |573023 |5         |97        |SuspiciousActivity|NULL           |BenignPositive|NULL         |NULL          |Ip              |Related     |98799   |138268|80       |160396|441377    |673934    |425863         |453297     |153085    |529644          |NULL          |1631       |635              |860              |2251         |3421           |881               |NULL        |289573  |117668    |3586          |NULL        |Contextual|5       |66       |NULL             |NULL          |NULL       |242        |1445 |10630|\n",
      "|60129545540  |59   |518657    |1381976|5         |267       |SuspiciousActivity|NULL           |BenignPositive|NULL         |NULL          |User            |Impacted    |98799   |138268|360606   |160396|95485     |159687    |90066          |267319     |153085    |529644          |NULL          |1631       |635              |860              |2251         |3421           |881               |NULL        |289573  |117668    |3586          |NULL        |NULL      |5       |66       |NULL             |NULL          |NULL       |242        |1445 |10630|\n",
      "|901943136091 |734  |178669    |580340 |5         |2409      |SuspiciousActivity|NULL           |BenignPositive|NULL         |NULL          |User            |Impacted    |98799   |138268|360606   |160396|85402     |122706    |81578          |84213      |153085    |529644          |NULL          |1631       |635              |860              |2251         |3421           |881               |NULL        |289573  |117668    |3586          |NULL        |NULL      |5       |66       |NULL             |NULL          |NULL       |242        |1445 |10630|\n",
      "|94489281077  |246  |594101    |1671417|5         |49        |SuspiciousActivity|NULL           |BenignPositive|NULL         |NULL          |CloudApplication|Impacted    |98799   |138268|360606   |160396|441377    |673934    |425863         |453297     |153085    |529644          |NULL          |1631       |635              |860              |5            |5              |881               |NULL        |289573  |117668    |3586          |NULL        |NULL      |5       |66       |NULL             |NULL          |NULL       |242        |1445 |10630|\n",
      "+-------------+-----+----------+-------+----------+----------+------------------+---------------+--------------+-------------+--------------+----------------+------------+--------+------+---------+------+----------+----------+---------------+-----------+----------+----------------+--------------+-----------+-----------------+-----------------+-------------+---------------+------------------+------------+--------+----------+--------------+------------+----------+--------+---------+-----------------+--------------+-----------+-----------+-----+-----+\n",
      "only showing top 5 rows\n",
      "\n",
      "Registros encontrados en P6_SuspAct_BenignPos: 507279\n"
     ]
    }
   ],
   "source": [
    "partition_dfs = {} # Diccionario para guardar los dataframes de cada partición\n",
    "\n",
    "for rule in partition_rules:\n",
    "    partition_name = rule['name']\n",
    "    filter_condition = rule['filter_expr']\n",
    "\n",
    "    print(f\"\\nFiltrando para la partición: {partition_name}\")\n",
    "    print(f\"Condición: {filter_condition}\")\n",
    "\n",
    "    partition_df = df.filter(filter_condition)\n",
    "    partition_dfs[partition_name] = partition_df\n",
    "\n",
    "    print(f\"Verificación para {partition_name}:\")\n",
    "    partition_df.show(5, truncate=False)\n",
    "    count_partition = partition_df.count()\n",
    "    print(f\"Registros encontrados en {partition_name}: {count_partition}\")"
   ]
  },
  {
   "cell_type": "code",
   "execution_count": 20,
   "metadata": {
    "id": "kwp4Pk9iewcG"
   },
   "outputs": [],
   "source": [
    "# Definir tamaño objetivo por partición\n",
    "tamano_por_particion = 1500"
   ]
  },
  {
   "cell_type": "code",
   "execution_count": 14,
   "metadata": {
    "id": "goLSdbSeeb01"
   },
   "outputs": [],
   "source": [
    "muestras_por_particion = []\n",
    "\n",
    "# Iterar sobre cada partición creada previamente\n",
    "for nombre, df_particion in partition_dfs.items():\n",
    "    # Calcular cuántos registros hay por categoría\n",
    "    conteo_cat = df_particion.groupBy(\"Category\").count().collect()\n",
    "    total_cat = sum(r[\"count\"] for r in conteo_cat)\n",
    "\n",
    "    # Calcular fracciones de muestreo por categoría\n",
    "    fracciones = {\n",
    "        r[\"Category\"]: (tamano_por_particion * (r[\"count\"] / total_cat)) / r[\"count\"]\n",
    "        for r in conteo_cat if r[\"count\"] > 0\n",
    "    }\n",
    "\n",
    "    # Aplicar el muestreo estratificado\n",
    "    muestra = df_particion.sampleBy(\"Category\", fractions=fracciones, seed=42)\n",
    "\n",
    "    # Agregar al conjunto de muestras\n",
    "    muestras_por_particion.append(muestra)"
   ]
  },
  {
   "cell_type": "code",
   "execution_count": 21,
   "metadata": {
    "id": "wUehjcLGgGMA"
   },
   "outputs": [
    {
     "name": "stdout",
     "output_type": "stream",
     "text": [
      "Número total de registros en la muestra final: 8958\n",
      "+------------------+-----+\n",
      "|          Category|count|\n",
      "+------------------+-----+\n",
      "|     InitialAccess| 4520|\n",
      "|      Exfiltration| 1476|\n",
      "| CommandAndControl| 1475|\n",
      "|SuspiciousActivity| 1487|\n",
      "+------------------+-----+\n",
      "\n"
     ]
    }
   ],
   "source": [
    "# Unir todas las muestras en una sola muestra final M\n",
    "muestra_final = muestras_por_particion[0]\n",
    "for muestra in muestras_por_particion[1:]:\n",
    "    muestra_final = muestra_final.union(muestra)\n",
    "\n",
    "# Mostrar resumen\n",
    "print(f\"Número total de registros en la muestra final: {muestra_final.count()}\")\n",
    "muestra_final.groupBy(\"Category\").count().show()"
   ]
  },
  {
   "cell_type": "markdown",
   "metadata": {},
   "source": [
    "## Preparación de los datos"
   ]
  },
  {
   "cell_type": "code",
   "execution_count": 16,
   "metadata": {
    "id": "3GZqB6WS3_-I"
   },
   "outputs": [],
   "source": [
    "total_registros = 8958"
   ]
  },
  {
   "cell_type": "code",
   "execution_count": 26,
   "metadata": {
    "id": "db_13jgQmEUT"
   },
   "outputs": [],
   "source": [
    "from pyspark.sql.functions import col, when, count, mean, stddev, trim, sum as _sum\n",
    "from pyspark.sql.types import NumericType\n",
    "\n",
    "# Paso 1: Calcular porcentaje de valores nulos o vacíos por columna de forma eficiente\n",
    "conteo_nulos = muestra_final.select([\n",
    "    _sum(when(col(c).isNull() | (trim(col(c)) == \"\"), 1).otherwise(0)).alias(c)\n",
    "    for c in muestra_final.columns\n",
    "]).collect()[0].asDict()\n",
    "\n",
    "# Calcular diccionario con porcentaje de nulos\n",
    "porcentaje_nulos = {\n",
    "    c: conteo_nulos[c] / total_registros\n",
    "    for c in muestra_final.columns\n",
    "}"
   ]
  },
  {
   "cell_type": "code",
   "execution_count": 24,
   "metadata": {},
   "outputs": [
    {
     "name": "stdout",
     "output_type": "stream",
     "text": [
      "<class 'pyspark.sql.dataframe.DataFrame'>\n"
     ]
    }
   ],
   "source": [
    "print(type(porcentaje_nulos)) "
   ]
  },
  {
   "cell_type": "code",
   "execution_count": 27,
   "metadata": {},
   "outputs": [],
   "source": [
    "# Paso 2: Eliminar columnas con más del 50% de valores nulos o vacíos\n",
    "umbral_nulos = 0.5\n",
    "columnas_validas = [c for c, p in porcentaje_nulos.items() if p <= umbral_nulos]\n",
    "muestra_limpia = muestra_final.select(columnas_validas)\n"
   ]
  },
  {
   "cell_type": "code",
   "execution_count": 28,
   "metadata": {},
   "outputs": [],
   "source": [
    "# Paso 3: Eliminar filas con valores nulos o vacíos restantes\n",
    "muestra_limpia = muestra_limpia.replace(\"\", None).na.drop()"
   ]
  },
  {
   "cell_type": "code",
   "execution_count": 29,
   "metadata": {},
   "outputs": [],
   "source": [
    "# Paso 4: Convertir columnas numéricas a tipo double\n",
    "numeric_cols = [f.name for f in muestra_limpia.schema.fields if isinstance(f.dataType, NumericType)]\n",
    "for col_name in numeric_cols:\n",
    "    muestra_limpia = muestra_limpia.withColumn(col_name, col(col_name).cast(\"double\"))"
   ]
  },
  {
   "cell_type": "code",
   "execution_count": 30,
   "metadata": {},
   "outputs": [
    {
     "name": "stdout",
     "output_type": "stream",
     "text": [
      "Número de registros finales: 8958\n",
      "+-----------------+-----+----------+--------+----------+----------+-------------+-------------+-----------------+------------+--------+--------+---------+--------+----------+----------+---------------+-----------+----------+----------------+-----------+-----------------+-----------------+-------------+---------------+------------------+--------+----------+--------------+--------+---------+-----------+------+-------+\n",
      "|               Id|OrgId|IncidentId| AlertId|DetectorId|AlertTitle|     Category|IncidentGrade|       EntityType|EvidenceRole|DeviceId|  Sha256|IpAddress|     Url|AccountSid|AccountUpn|AccountObjectId|AccountName|DeviceName|NetworkMessageId|RegistryKey|RegistryValueName|RegistryValueData|ApplicationId|ApplicationName|OAuthApplicationId|FileName|FolderPath|ResourceIdName|OSFamily|OSVersion|CountryCode| State|   City|\n",
      "+-----------------+-----+----------+--------+----------+----------+-------------+-------------+-----------------+------------+--------+--------+---------+--------+----------+----------+---------------+-----------+----------+----------------+-----------+-----------------+-----------------+-------------+---------------+------------------+--------+----------+--------------+--------+---------+-----------+------+-------+\n",
      "|1.520418424539E12|  0.0|     311.0| 69138.0|       0.0|       0.0|InitialAccess| TruePositive|CloudLogonRequest|     Related| 98799.0|138268.0| 360606.0|160396.0|  441377.0|  673934.0|       425863.0|   453297.0|  153085.0|        529644.0|     1631.0|            635.0|            860.0|       2251.0|         3421.0|             881.0|289573.0|  117668.0|        3586.0|     5.0|     66.0|      242.0|1445.0|10630.0|\n",
      "| 6.44245099342E11|409.0|    6633.0| 27496.0|       1.0|       1.0|InitialAccess| TruePositive|          Mailbox|    Impacted| 98799.0|138268.0| 360606.0|160396.0|   16574.0|   13552.0|        17367.0|    18910.0|  153085.0|        529644.0|     1631.0|            635.0|            860.0|       2251.0|         3421.0|             881.0|289573.0|  117668.0|        3586.0|     5.0|     66.0|      242.0|1445.0|10630.0|\n",
      "|1.082331760268E12|  1.0|     358.0|174042.0|       0.0|       0.0|InitialAccess| TruePositive|CloudLogonSession|     Related| 98799.0|138268.0| 360606.0|160396.0|  441377.0|  673934.0|       425863.0|   453297.0|  153085.0|        529644.0|     1631.0|            635.0|            860.0|       2251.0|         3421.0|             881.0|289573.0|  117668.0|        3586.0|     5.0|     66.0|      242.0|1445.0|10630.0|\n",
      "|1.666447314828E12|280.0|   35868.0|448810.0|       6.0|       5.0|InitialAccess| TruePositive|      MailCluster|     Related| 98799.0|138268.0| 360606.0|160396.0|  441377.0|  673934.0|       425863.0|   453297.0|  153085.0|        529644.0|     1631.0|            635.0|            860.0|       2251.0|         3421.0|             881.0|289573.0|  117668.0|        3586.0|     5.0|     66.0|      242.0|1445.0|10630.0|\n",
      "| 3.43597387018E11|318.0|   57206.0| 80933.0|       6.0|       5.0|InitialAccess| TruePositive|      MailCluster|     Related| 98799.0|138268.0| 360606.0|160396.0|  441377.0|  673934.0|       425863.0|   453297.0|  153085.0|        529644.0|     1631.0|            635.0|            860.0|       2251.0|         3421.0|             881.0|289573.0|  117668.0|        3586.0|     5.0|     66.0|      242.0|1445.0|10630.0|\n",
      "+-----------------+-----+----------+--------+----------+----------+-------------+-------------+-----------------+------------+--------+--------+---------+--------+----------+----------+---------------+-----------+----------+----------------+-----------+-----------------+-----------------+-------------+---------------+------------------+--------+----------+--------------+--------+---------+-----------+------+-------+\n",
      "only showing top 5 rows\n",
      "\n"
     ]
    }
   ],
   "source": [
    "# Verificar resultado final\n",
    "print(f\"Número de registros finales: {muestra_limpia.count()}\")\n",
    "muestra_limpia.show(5)"
   ]
  },
  {
   "cell_type": "markdown",
   "metadata": {},
   "source": [
    "## Preparación del conjunto de entrenamiento y prueba"
   ]
  },
  {
   "cell_type": "code",
   "execution_count": 32,
   "metadata": {},
   "outputs": [],
   "source": [
    "# 1. Filtrar registros con IncidentGrade no nulo\n",
    "df_filtrado = muestra_limpia.filter(col(\"IncidentGrade\").isNotNull())\n",
    "\n",
    "# 2. Calcular el número total de registros\n",
    "total_count = df_filtrado.count()\n",
    "\n",
    "# 3. Obtener el conteo por clase\n",
    "stratum_counts = df_filtrado.groupBy(\"IncidentGrade\").count().collect()\n"
   ]
  },
  {
   "cell_type": "code",
   "execution_count": 33,
   "metadata": {},
   "outputs": [
    {
     "name": "stdout",
     "output_type": "stream",
     "text": [
      "Fracciones por clase: {'TruePositive': 0.05170797052913597, 'BenignPositive': 0.19835900870730075, 'FalsePositive': 0.04993302076356329}\n"
     ]
    }
   ],
   "source": [
    "# 4. Calcular fracciones para test (30%) de cada clase\n",
    "stratum_fractions = {\n",
    "    row[\"IncidentGrade\"]: 0.3 * (row[\"count\"] / total_count)\n",
    "    for row in stratum_counts\n",
    "}\n",
    "\n",
    "print(\"Fracciones por clase:\", stratum_fractions)\n",
    "\n",
    "# 5. Aplicar muestreo estratificado\n",
    "test_data = df_filtrado.sampleBy(\"IncidentGrade\", fractions=stratum_fractions, seed=42)\n",
    "\n",
    "# 6. Conjunto de entrenamiento: lo que no está en test\n",
    "train_data = df_filtrado.exceptAll(test_data)"
   ]
  },
  {
   "cell_type": "code",
   "execution_count": 34,
   "metadata": {},
   "outputs": [
    {
     "name": "stdout",
     "output_type": "stream",
     "text": [
      "Registros en entrenamiento: 7683\n",
      "Registros en prueba: 1275\n",
      "+--------------+-----+\n",
      "| IncidentGrade|count|\n",
      "+--------------+-----+\n",
      "|BenignPositive| 4784|\n",
      "| FalsePositive| 1430|\n",
      "|  TruePositive| 1469|\n",
      "+--------------+-----+\n",
      "\n",
      "+--------------+-----+\n",
      "| IncidentGrade|count|\n",
      "+--------------+-----+\n",
      "|  TruePositive|   75|\n",
      "|BenignPositive| 1139|\n",
      "| FalsePositive|   61|\n",
      "+--------------+-----+\n",
      "\n"
     ]
    }
   ],
   "source": [
    "# 7. Mostrar resultados\n",
    "print(f\"Registros en entrenamiento: {train_data.count()}\")\n",
    "print(f\"Registros en prueba: {test_data.count()}\")\n",
    "\n",
    "train_data.groupBy(\"IncidentGrade\").count().show()\n",
    "test_data.groupBy(\"IncidentGrade\").count().show()"
   ]
  },
  {
   "cell_type": "markdown",
   "metadata": {},
   "source": [
    "## Construcción de modelos de aprendizaje supervisado y no supervisado"
   ]
  },
  {
   "cell_type": "code",
   "execution_count": 36,
   "metadata": {},
   "outputs": [],
   "source": [
    "from pyspark.ml.feature import VectorAssembler, StringIndexer\n",
    "from pyspark.ml.classification import LogisticRegression\n",
    "from pyspark.ml.evaluation import MulticlassClassificationEvaluator \n",
    "\n",
    "# Indexar etiqueta (IncidentGrade)\n",
    "indexer = StringIndexer(inputCol=\"IncidentGrade\", outputCol=\"label\")\n",
    "train_indexed = indexer.fit(train_data).transform(train_data)\n",
    "test_indexed = indexer.fit(train_data).transform(test_data)\n",
    "\n",
    "# Seleccionar columnas numéricas como características\n",
    "features_cols = [c for c in train_indexed.columns if c.endswith(\"_zscore\")]\n",
    "assembler = VectorAssembler(inputCols=features_cols, outputCol=\"features\")\n",
    "\n",
    "train_ready = assembler.transform(train_indexed)\n",
    "test_ready = assembler.transform(test_indexed)\n"
   ]
  },
  {
   "cell_type": "code",
   "execution_count": 37,
   "metadata": {},
   "outputs": [
    {
     "name": "stdout",
     "output_type": "stream",
     "text": [
      "Accuracy: 0.9027450980392157\n"
     ]
    }
   ],
   "source": [
    "# Modelo\n",
    "lr = LogisticRegression(featuresCol=\"features\", labelCol=\"label\")\n",
    "modelo = lr.fit(train_ready)\n",
    "\n",
    "# Predicciones\n",
    "predicciones = modelo.transform(test_ready)\n",
    "\n",
    "# Evaluación\n",
    "evaluator = MulticlassClassificationEvaluator(labelCol=\"label\", predictionCol=\"prediction\", metricName=\"accuracy\")\n",
    "accuracy = evaluator.evaluate(predicciones)\n",
    "print(f\"Accuracy: {accuracy}\")"
   ]
  },
  {
   "cell_type": "code",
   "execution_count": 41,
   "metadata": {},
   "outputs": [],
   "source": [
    "from pyspark.ml.feature import VectorAssembler, PCA\n",
    "from pyspark.ml.clustering import KMeans\n",
    "from pyspark.ml.evaluation import ClusteringEvaluator\n",
    "\n",
    "# 1. Ensamblar las características\n",
    "assembler = VectorAssembler(inputCols=features_cols, outputCol=\"features\")\n",
    "df_assembled = assembler.transform(muestra_limpia)\n",
    "\n",
    "# 2. Aplicar PCA para reducir dimensionalidad\n",
    "pca = PCA(k=5, inputCol=\"features\", outputCol=\"pca_features\")  # Puedes ajustar k\n",
    "pca_model = pca.fit(df_assembled)\n",
    "df_pca = pca_model.transform(df_assembled)"
   ]
  },
  {
   "cell_type": "code",
   "execution_count": 42,
   "metadata": {},
   "outputs": [
    {
     "name": "stdout",
     "output_type": "stream",
     "text": [
      "Silhouette Score con PCA: 0.7435578891165091\n"
     ]
    }
   ],
   "source": [
    "# 3. Aplicar KMeans sobre los datos transformados por PCA\n",
    "kmeans = KMeans(featuresCol=\"pca_features\", k=3, seed=42)\n",
    "model = kmeans.fit(df_pca)\n",
    "predictions = model.transform(df_pca)\n",
    "\n",
    "# 4. Evaluar con Silhouette Score\n",
    "evaluator = ClusteringEvaluator(featuresCol=\"pca_features\", metricName=\"silhouette\")\n",
    "silhouette = evaluator.evaluate(predictions)\n",
    "print(f\"Silhouette Score con PCA: {silhouette}\")\n"
   ]
  },
  {
   "cell_type": "code",
   "execution_count": null,
   "metadata": {},
   "outputs": [],
   "source": []
  }
 ],
 "metadata": {
  "colab": {
   "provenance": []
  },
  "kernelspec": {
   "display_name": "Python (env-pyspark)",
   "language": "python",
   "name": "env-pyspark"
  },
  "language_info": {
   "codemirror_mode": {
    "name": "ipython",
    "version": 3
   },
   "file_extension": ".py",
   "mimetype": "text/x-python",
   "name": "python",
   "nbconvert_exporter": "python",
   "pygments_lexer": "ipython3",
   "version": "3.12.9"
  }
 },
 "nbformat": 4,
 "nbformat_minor": 4
}
