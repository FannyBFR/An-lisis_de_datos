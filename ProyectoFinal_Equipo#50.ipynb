{
 "cells": [
  {
   "cell_type": "markdown",
   "id": "0d1b3ab9",
   "metadata": {},
   "source": [
    "# Aprendizaje Supervisado"
   ]
  },
  {
   "cell_type": "markdown",
   "id": "132eeeb6",
   "metadata": {},
   "source": [
    "## Sección 1: Introducción teórica"
   ]
  },
  {
   "cell_type": "markdown",
   "id": "5bdc68aa",
   "metadata": {},
   "source": [
    "#### Aprendizaje Supervisado:\n",
    "Es un tipo de algoritmo de machine learning donde el modelo aprende a partir de datos etiquetados. Esto significa que el modelo recibe entradas junto con las salidas deseadas, lo que le permite hacer predicciones o clasificaciones sobre nuevos datos no vistos. Algunos algoritmos comunes en PySpark incluyen:\n",
    "- DecisionTreeClassifier\n",
    "- RandomForestClassifier\n",
    "- GBTClassifier\n",
    "- MultilayerPerceptronClassifier\n",
    "\n",
    "#### Aprendizaje No Supervisado:\n",
    "En este enfoque, los datos no están etiquetados. El modelo intenta encontrar patrones, relaciones o estructuras en los datos por sí mismo. Los algoritmos típicos de aprendizaje no supervisado incluyen:\n",
    "- KMeans\n",
    "- GaussianMixture\n",
    "- PowerIterationClustering (PIC)"
   ]
  },
  {
   "cell_type": "markdown",
   "id": "7befe5bb",
   "metadata": {},
   "source": [
    "## Sección 2: Selección de los datos\n"
   ]
  },
  {
   "cell_type": "code",
   "execution_count": 38,
   "id": "e8776557",
   "metadata": {},
   "outputs": [
    {
     "name": "stdout",
     "output_type": "stream",
     "text": [
      "\n",
      "Distribución de 'Category':\n",
      "+-------------------+-------+\n",
      "|Category           |count  |\n",
      "+-------------------+-------+\n",
      "|InitialAccess      |4293041|\n",
      "|Exfiltration       |1577965|\n",
      "|SuspiciousActivity |1003933|\n",
      "|CommandAndControl  |826691 |\n",
      "|Impact             |750885 |\n",
      "|CredentialAccess   |300518 |\n",
      "|Execution          |267594 |\n",
      "|Malware            |144081 |\n",
      "|Discovery          |129342 |\n",
      "|Persistence        |72682  |\n",
      "|DefenseEvasion     |46662  |\n",
      "|LateralMovement    |41754  |\n",
      "|Ransomware         |18974  |\n",
      "|UnwantedSoftware   |18211  |\n",
      "|Collection         |14753  |\n",
      "|PrivilegeEscalation|4671   |\n",
      "|Exploit            |4648   |\n",
      "|CredentialStealing |388    |\n",
      "|WebExploit         |38     |\n",
      "|Weaponization      |6      |\n",
      "+-------------------+-------+\n",
      "\n",
      "\n",
      "Distribución de 'IncidentGrade':\n",
      "+--------------+-------+\n",
      "| IncidentGrade|  count|\n",
      "+--------------+-------+\n",
      "|BenignPositive|4110817|\n",
      "|  TruePositive|3322713|\n",
      "| FalsePositive|2031967|\n",
      "|          NULL|  51340|\n",
      "+--------------+-------+\n",
      "\n",
      "\n",
      "Distribución de 'EntityType':\n",
      "+-----------------+-------+\n",
      "|       EntityType|  count|\n",
      "+-----------------+-------+\n",
      "|               Ip|2181194|\n",
      "|             User|1932416|\n",
      "|      MailMessage|1173154|\n",
      "|          Machine| 699208|\n",
      "|             File| 688402|\n",
      "|              Url| 682578|\n",
      "|CloudLogonRequest| 638565|\n",
      "|          Mailbox| 483158|\n",
      "|          Process| 345732|\n",
      "|      MailCluster| 224684|\n",
      "| CloudApplication| 216811|\n",
      "|CloudLogonSession| 212382|\n",
      "|    RegistryValue|  11209|\n",
      "|    AzureResource|   8166|\n",
      "|      RegistryKey|   7277|\n",
      "|    GenericEntity|   4294|\n",
      "| OAuthApplication|   2595|\n",
      "|          Malware|   2580|\n",
      "|    SecurityGroup|   1518|\n",
      "|    BlobContainer|    306|\n",
      "+-----------------+-------+\n",
      "only showing top 20 rows\n",
      "\n",
      "\n",
      "Distribución de 'ResourceType':\n",
      "+--------------------+-------+\n",
      "|        ResourceType|  count|\n",
      "+--------------------+-------+\n",
      "|                NULL|9509762|\n",
      "|     Virtual Machine|   4146|\n",
      "|           Key Vault|    480|\n",
      "|         App Service|    404|\n",
      "|   Azure Arc machine|    373|\n",
      "|     Storage Account|    366|\n",
      "|        Subscription|    271|\n",
      "|        SQL Database|    226|\n",
      "|Azure Database fo...|    182|\n",
      "|      Azure Resource|    157|\n",
      "|Virtual Machine S...|    112|\n",
      "|API Management Se...|     94|\n",
      "|    Key Vault Secret|     77|\n",
      "|Azure Database fo...|     45|\n",
      "|          SQL Server|     41|\n",
      "|Azure Cosmos DB A...|     30|\n",
      "|          Networking|     14|\n",
      "|    Synapse SQL Pool|     11|\n",
      "|GCP Compute Instance|     10|\n",
      "|  Kubernetes Service|      9|\n",
      "+--------------------+-------+\n",
      "only showing top 20 rows\n",
      "\n",
      "\n",
      "Distribución de 'OSFamily':\n",
      "+--------+-------+\n",
      "|OSFamily|  count|\n",
      "+--------+-------+\n",
      "|       5|9322565|\n",
      "|       0| 190036|\n",
      "|       1|   2732|\n",
      "|       2|   1496|\n",
      "|       3|      7|\n",
      "|       4|      1|\n",
      "+--------+-------+\n",
      "\n"
     ]
    }
   ],
   "source": [
    "from pyspark.sql import SparkSession\n",
    "import pyspark.sql.functions as F\n",
    "\n",
    "spark = SparkSession.builder.appName(\"MuestreoSeguridad\").getOrCreate()\n",
    "\n",
    "# Cargar los datos\n",
    "file_path = \"C:/Users/luis_/Downloads/archive/GUIDE_Train.csv\"\n",
    "df = spark.read.csv(file_path, header=True, inferSchema=True)\n",
    "\n",
    "# Análisis exploratorio\n",
    "print(\"\\nDistribución de 'Category':\")\n",
    "df.groupBy(\"Category\").count().orderBy(F.col(\"count\").desc()).show(truncate=False)\n",
    "\n",
    "print(\"\\nDistribución de 'IncidentGrade':\")\n",
    "df.groupBy(\"IncidentGrade\").count().orderBy(F.col(\"count\").desc()).show()\n",
    "\n",
    "print(\"\\nDistribución de 'EntityType':\")\n",
    "df.groupBy(\"EntityType\").count().orderBy(F.col(\"count\").desc()).show()\n",
    "\n",
    "print(\"\\nDistribución de 'ResourceType':\")\n",
    "df.groupBy(\"ResourceType\").count().orderBy(F.col(\"count\").desc()).show()\n",
    "\n",
    "print(\"\\nDistribución de 'OSFamily':\")\n",
    "df.groupBy(\"OSFamily\").count().orderBy(F.col(\"count\").desc()).show()"
   ]
  },
  {
   "cell_type": "markdown",
   "id": "281a51dd",
   "metadata": {},
   "source": [
    "## Sección 3: Preparación de los datos"
   ]
  },
  {
   "cell_type": "code",
   "execution_count": 39,
   "id": "2fe3e065",
   "metadata": {},
   "outputs": [
    {
     "name": "stdout",
     "output_type": "stream",
     "text": [
      "+--------+-------------+----------+------------+--------+\n",
      "|Category|IncidentGrade|EntityType|ResourceType|OSFamily|\n",
      "+--------+-------------+----------+------------+--------+\n",
      "|       0|        51340|         0|     9509762|       0|\n",
      "+--------+-------------+----------+------------+--------+\n",
      "\n"
     ]
    }
   ],
   "source": [
    "# Revisión de nulos\n",
    "columns_to_check = [\"Category\", \"IncidentGrade\", \"EntityType\", \"ResourceType\", \"OSFamily\"]\n",
    "df.select([F.count(F.when(F.col(c).isNull(), c)).alias(c) for c in columns_to_check]).show()\n",
    "\n",
    "# Eliminación de filas con valores nulos\n",
    "cols_to_use = [\"IncidentGrade\", \"EntityType\", \"ResourceType\", \"OSFamily\"]\n",
    "df_clean = df.dropna(subset=cols_to_use + [\"Category\"])\n",
    "\n",
    "# Codificación de variables categóricas\n",
    "from pyspark.ml.feature import StringIndexer\n",
    "\n",
    "indexers = [StringIndexer(inputCol=column, outputCol=column + \"_idx\") for column in cols_to_use + [\"Category\"]]\n",
    "for indexer in indexers:\n",
    "    df_clean = indexer.fit(df_clean).transform(df_clean)\n",
    "\n",
    "# Ensamble de características\n",
    "from pyspark.ml.feature import VectorAssembler\n",
    "\n",
    "feature_cols = [col + \"_idx\" for col in cols_to_use]\n",
    "assembler = VectorAssembler(inputCols=feature_cols, outputCol=\"features\")\n",
    "df_prepared = assembler.transform(df_clean)"
   ]
  },
  {
   "cell_type": "markdown",
   "id": "a1344359",
   "metadata": {},
   "source": [
    "## Sección 4: Preparación del conjunto de entrenamiento y prueba"
   ]
  },
  {
   "cell_type": "code",
   "execution_count": 40,
   "id": "d2c26c3f",
   "metadata": {},
   "outputs": [],
   "source": [
    "# Se usará un 70% de los datos para entrenamiento y un 30% para prueba. \n",
    "# Se realiza muestreo aleatorio para evitar sesgos.\n",
    "\n",
    "train_data, test_data = df_prepared.randomSplit([0.7, 0.3], seed=42)"
   ]
  },
  {
   "cell_type": "markdown",
   "id": "61df0226",
   "metadata": {},
   "source": [
    "## Sección 5: Construcción de modelos supervisado y no supervisado"
   ]
  },
  {
   "cell_type": "markdown",
   "id": "d99b0a90",
   "metadata": {},
   "source": [
    "### Modelo Supervisado: Árbol de Decisión"
   ]
  },
  {
   "cell_type": "code",
   "execution_count": 41,
   "id": "660d1cd2",
   "metadata": {},
   "outputs": [
    {
     "name": "stdout",
     "output_type": "stream",
     "text": [
      "\n",
      "Exactitud del modelo supervisado: 0.60\n"
     ]
    }
   ],
   "source": [
    "from pyspark.ml.classification import DecisionTreeClassifier\n",
    "from pyspark.ml.evaluation import MulticlassClassificationEvaluator\n",
    "\n",
    "classifier = DecisionTreeClassifier(labelCol=\"Category_idx\", featuresCol=\"features\")\n",
    "model = classifier.fit(train_data)\n",
    "predictions = model.transform(test_data)\n",
    "\n",
    "evaluator = MulticlassClassificationEvaluator(labelCol=\"Category_idx\", predictionCol=\"prediction\", metricName=\"accuracy\")\n",
    "accuracy = evaluator.evaluate(predictions)\n",
    "print(f\"\\nExactitud del modelo supervisado: {accuracy:.2f}\")"
   ]
  },
  {
   "cell_type": "markdown",
   "id": "f3987832",
   "metadata": {},
   "source": [
    "El Árbol de Decisión con un 60% de exactitud es un buen inicio, pero se puede mejorar, ya sea probando otro tipo de entrenamiento supervisado o con una optimización en los hiperparámetros que se tienen actualmente. De igual forma puede existir algún desbalance de clases que podría estar afectando el rendimiento deseado."
   ]
  },
  {
   "cell_type": "markdown",
   "id": "73a973a2",
   "metadata": {},
   "source": [
    "### Modelo No Supervisado: KMeans"
   ]
  },
  {
   "cell_type": "code",
   "execution_count": 42,
   "id": "198579c8",
   "metadata": {},
   "outputs": [
    {
     "name": "stdout",
     "output_type": "stream",
     "text": [
      "\n",
      "Exactitud del modelo no supervisado: 0.80\n"
     ]
    }
   ],
   "source": [
    "from pyspark.ml.clustering import KMeans\n",
    "from pyspark.ml.evaluation import ClusteringEvaluator\n",
    "\n",
    "kmeans = KMeans(featuresCol=\"features\", k=5, seed=1)\n",
    "kmodel = kmeans.fit(df_prepared)\n",
    "kpredictions = kmodel.transform(df_prepared)\n",
    "\n",
    "clustering_evaluator = ClusteringEvaluator(predictionCol=\"prediction\", featuresCol=\"features\")\n",
    "silhouette = clustering_evaluator.evaluate(kpredictions)\n",
    "print(f\"\\nExactitud del modelo no supervisado: {silhouette:.2f}\")"
   ]
  },
  {
   "cell_type": "markdown",
   "id": "2603dc4b",
   "metadata": {},
   "source": [
    "Una exactitud de de 0.80 para KMeans con k=5 es mejor de lo que optuvimos previamente, esto indica una buena estructura de clustering en los datos procesados, sin embargo hay ciertos pasos que se pueden mejorar para tener una exactitud mayor, podemos jugar con el valor de k y comparar las puntuaciónes o incluso implementar el método del codo y ver si así podemos mejorarlo o entender mejor la relación de los clusters con las variables que tenemos en mente."
   ]
  },
  {
   "cell_type": "markdown",
   "id": "b594893a",
   "metadata": {},
   "source": [
    "# Metricas"
   ]
  },
  {
   "cell_type": "markdown",
   "id": "b5dba9cb",
   "metadata": {},
   "source": [
    "## SECCIÓN 1: CONSTRUCCIÓN DE LA MUESTRA M (MUESTREO ESTRATIFICADO)\n",
    "El objetivo es crear una submuestra 'M' que mantenga las proporciones de la variable 'Category'. Esto es crucial para evitar sesgos y entrenar modelos más generalizables."
   ]
  },
  {
   "cell_type": "code",
   "execution_count": 43,
   "id": "6d700f86",
   "metadata": {},
   "outputs": [
    {
     "name": "stdout",
     "output_type": "stream",
     "text": [
      "Carga y limpieza de datos completada.\n",
      "--------------------------------------------------\n"
     ]
    }
   ],
   "source": [
    "# Limpiar los datos eliminando filas con valores nulos en columnas clave\n",
    "cols_to_use = [\"IncidentGrade\", \"EntityType\", \"ResourceType\", \"OSFamily\", \"Category\"]\n",
    "df_clean = df.dropna(subset=cols_to_use)\n",
    "print(\"Carga y limpieza de datos completada.\")\n",
    "print(\"-\" * 50)"
   ]
  },
  {
   "cell_type": "code",
   "execution_count": 44,
   "id": "f83b25ea",
   "metadata": {},
   "outputs": [
    {
     "name": "stdout",
     "output_type": "stream",
     "text": [
      "Distribución de 'Category' en la muestra M (30% estratificado):\n",
      "+-------------------+-----+\n",
      "|Category           |count|\n",
      "+-------------------+-----+\n",
      "|InitialAccess      |970  |\n",
      "|Discovery          |593  |\n",
      "|SuspiciousActivity |211  |\n",
      "|Exfiltration       |115  |\n",
      "|LateralMovement    |87   |\n",
      "|PrivilegeEscalation|67   |\n",
      "|CredentialAccess   |48   |\n",
      "|Impact             |27   |\n",
      "|Execution          |20   |\n",
      "|DefenseEvasion     |15   |\n",
      "|CommandAndControl  |12   |\n",
      "|Persistence        |5    |\n",
      "+-------------------+-----+\n",
      "\n",
      "Muestra M construida exitosamente.\n",
      "--------------------------------------------------\n"
     ]
    }
   ],
   "source": [
    "# Calcular las fracciones para el muestreo estratificado\n",
    "fractions = df_clean.select(\"Category\").distinct().withColumn(\"fraction\", F.lit(0.3)).rdd.collectAsMap()\n",
    "\n",
    "# Realizar el muestreo estratificado\n",
    "M = df_clean.stat.sampleBy(\"Category\", fractions, seed=42)\n",
    "print(\"Distribución de 'Category' en la muestra M (30% estratificado):\")\n",
    "M.groupBy(\"Category\").count().orderBy(F.col(\"count\").desc()).show(truncate=False)\n",
    "print(\"Muestra M construida exitosamente.\")\n",
    "print(\"-\" * 50)"
   ]
  },
  {
   "cell_type": "markdown",
   "id": "3ebc0acc",
   "metadata": {},
   "source": [
    "## SECCIÓN 2: CONSTRUCCIÓN TRAIN – TEST (DIVISIÓN ESTRATIFICADA)\n",
    "Es fundamental que tanto el conjunto de entrenamiento como el de prueba tengan distribuciones similares de la variable objetivo ('Category') para una evaluación fiable del modelo."
   ]
  },
  {
   "cell_type": "code",
   "execution_count": 45,
   "id": "a18cb489",
   "metadata": {},
   "outputs": [],
   "source": [
    "# Codificación de variables categóricas a numéricas usando StringIndexer\n",
    "indexers = [StringIndexer(inputCol=column, outputCol=column + \"_idx\") for column in [\"IncidentGrade\", \"EntityType\", \"ResourceType\", \"OSFamily\", \"Category\"]]\n",
    "for indexer in indexers:\n",
    "    M = indexer.fit(M).transform(M)"
   ]
  },
  {
   "cell_type": "code",
   "execution_count": 46,
   "id": "2d25359b",
   "metadata": {},
   "outputs": [],
   "source": [
    "# Ensamble de características en un solo vector\n",
    "feature_cols = [\"IncidentGrade_idx\", \"EntityType_idx\", \"ResourceType_idx\", \"OSFamily_idx\"]\n",
    "assembler = VectorAssembler(inputCols=feature_cols, outputCol=\"features\")\n",
    "M_prepared = assembler.transform(M)"
   ]
  },
  {
   "cell_type": "code",
   "execution_count": 47,
   "id": "93153920",
   "metadata": {},
   "outputs": [],
   "source": [
    "# Se usa una función de ventana para asignar cada fila a entrenamiento o prueba\n",
    "\n",
    "from pyspark.sql import SparkSession\n",
    "from pyspark.sql.window import Window\n",
    "import pyspark.sql.functions as F\n",
    "spark = SparkSession.builder.appName(\"…\").getOrCreate()\n",
    "\n",
    "\n",
    "train_ratio = 0.7\n",
    "test_ratio = 0.3\n",
    "window_spec = Window.partitionBy(\"Category_idx\").orderBy(F.rand(seed=42))\n",
    "M_with_rank = M_prepared.withColumn(\"rank\", F.percent_rank().over(window_spec))\n",
    "train_data = M_with_rank.filter(F.col(\"rank\") <= train_ratio).drop(\"rank\")\n",
    "test_data = M_with_rank.filter(F.col(\"rank\") > train_ratio).drop(\"rank\")"
   ]
  },
  {
   "cell_type": "code",
   "execution_count": 48,
   "id": "63ec6974",
   "metadata": {},
   "outputs": [
    {
     "name": "stdout",
     "output_type": "stream",
     "text": [
      "Distribución de 'Category' en el conjunto de entrenamiento:\n",
      "+-------------------+-----+\n",
      "|Category           |count|\n",
      "+-------------------+-----+\n",
      "|InitialAccess      |679  |\n",
      "|Discovery          |415  |\n",
      "|SuspiciousActivity |148  |\n",
      "|Exfiltration       |80   |\n",
      "|LateralMovement    |61   |\n",
      "|PrivilegeEscalation|47   |\n",
      "|CredentialAccess   |33   |\n",
      "|Impact             |19   |\n",
      "|Execution          |14   |\n",
      "|DefenseEvasion     |10   |\n",
      "|CommandAndControl  |8    |\n",
      "|Persistence        |3    |\n",
      "+-------------------+-----+\n",
      "\n",
      "Distribución de 'Category' en el conjunto de prueba:\n",
      "+-------------------+-----+\n",
      "|Category           |count|\n",
      "+-------------------+-----+\n",
      "|InitialAccess      |291  |\n",
      "|Discovery          |178  |\n",
      "|SuspiciousActivity |63   |\n",
      "|Exfiltration       |35   |\n",
      "|LateralMovement    |26   |\n",
      "|PrivilegeEscalation|20   |\n",
      "|CredentialAccess   |15   |\n",
      "|Impact             |8    |\n",
      "|Execution          |6    |\n",
      "|DefenseEvasion     |5    |\n",
      "|CommandAndControl  |4    |\n",
      "|Persistence        |2    |\n",
      "+-------------------+-----+\n",
      "\n",
      "Número de filas en entrenamiento: 1517\n",
      "Número de filas en prueba: 653\n",
      "Número de filas en la intersección (debe ser 0): 0\n",
      "Conjuntos de entrenamiento y prueba construidos exitosamente.\n",
      "--------------------------------------------------\n"
     ]
    }
   ],
   "source": [
    "# Verificación de la división\n",
    "print(\"Distribución de 'Category' en el conjunto de entrenamiento:\")\n",
    "train_data.groupBy(\"Category\").count().orderBy(F.col(\"count\").desc()).show(truncate=False)\n",
    "\n",
    "print(\"Distribución de 'Category' en el conjunto de prueba:\")\n",
    "test_data.groupBy(\"Category\").count().orderBy(F.col(\"count\").desc()).show(truncate=False)\n",
    "\n",
    "print(f\"Número de filas en entrenamiento: {train_data.count()}\")\n",
    "print(f\"Número de filas en prueba: {test_data.count()}\")\n",
    "print(f\"Número de filas en la intersección (debe ser 0): {train_data.intersect(test_data).count()}\")\n",
    "print(\"Conjuntos de entrenamiento y prueba construidos exitosamente.\")\n",
    "print(\"-\" * 50)"
   ]
  },
  {
   "cell_type": "markdown",
   "id": "0198a564",
   "metadata": {},
   "source": [
    "## SECCIÓN 3: SELECCIÓN DE MÉTRICAS PARA MEDIR CALIDAD DE RESULTADOS\n",
    "Para el modelo supervisado (clasificación): Accuracy, Precision, Recall, F1-Score.\n",
    "\n",
    "Para el modelo no supervisado (clustering): Silhouette Coefficient."
   ]
  },
  {
   "cell_type": "markdown",
   "id": "c44f92e1",
   "metadata": {},
   "source": [
    "## SECCIÓN 4: ENTRENAMIENTO DE MODELOS DE APRENDIZAJE"
   ]
  },
  {
   "cell_type": "markdown",
   "id": "2d7ee499",
   "metadata": {},
   "source": [
    "### Modelo supervisado: random forest con validación cruzada\n"
   ]
  },
  {
   "cell_type": "code",
   "execution_count": 49,
   "id": "79db2bd4",
   "metadata": {},
   "outputs": [
    {
     "name": "stdout",
     "output_type": "stream",
     "text": [
      "\n",
      "Entrenando modelo supervisado (Random Forest)...\n"
     ]
    }
   ],
   "source": [
    "# Modelo supervisado: random forest con validación cruzada\n",
    "\n",
    "from pyspark.sql import SparkSession\n",
    "from pyspark.sql.window import Window\n",
    "import pyspark.sql.functions as F\n",
    "from pyspark.ml.classification import RandomForestClassifier\n",
    "from pyspark.ml.evaluation import MulticlassClassificationEvaluator\n",
    "from pyspark.ml.tuning import CrossValidator, ParamGridBuilder\n",
    "\n",
    "print(\"\\nEntrenando modelo supervisado (Random Forest)...\")\n",
    "rf = RandomForestClassifier(labelCol=\"Category_idx\", featuresCol=\"features\", seed=42)"
   ]
  },
  {
   "cell_type": "code",
   "execution_count": 50,
   "id": "cb65faed",
   "metadata": {},
   "outputs": [],
   "source": [
    "# Cuadrícula de hiperparámetros para optimizar el modelo\n",
    "paramGrid = (ParamGridBuilder()\n",
    "             .addGrid(rf.numTrees, [10, 20])  # Número de árboles en el bosque\n",
    "             .addGrid(rf.maxDepth, [5, 10])   # Profundidad máxima de los árboles\n",
    "             .build())"
   ]
  },
  {
   "cell_type": "code",
   "execution_count": 51,
   "id": "8929395e",
   "metadata": {},
   "outputs": [],
   "source": [
    "# Evaluador para la validación cruzada\n",
    "evaluator = MulticlassClassificationEvaluator(labelCol=\"Category_idx\", predictionCol=\"prediction\", metricName=\"accuracy\")"
   ]
  },
  {
   "cell_type": "code",
   "execution_count": 52,
   "id": "137ccd12",
   "metadata": {},
   "outputs": [],
   "source": [
    "# Configuración del validador cruzado\n",
    "cv = CrossValidator(estimator=rf,\n",
    "                    estimatorParamMaps=paramGrid,\n",
    "                    evaluator=evaluator,\n",
    "                    numFolds=3,\n",
    "                    seed=42)"
   ]
  },
  {
   "cell_type": "code",
   "execution_count": 53,
   "id": "e7c50f87",
   "metadata": {},
   "outputs": [
    {
     "name": "stdout",
     "output_type": "stream",
     "text": [
      "\n",
      "--- Resultados del Modelo Supervisado ---\n",
      "Accuracy: 0.5789\n",
      "Weighted Precision: 0.5370\n",
      "Weighted Recall: 0.5789\n",
      "F1 Score: 0.4884\n"
     ]
    }
   ],
   "source": [
    "# Entrenar el modelo\n",
    "cvModel = cv.fit(train_data)\n",
    "\n",
    "# Realizar predicciones y evaluar\n",
    "predictions = cvModel.transform(test_data)\n",
    "\n",
    "print(\"\\n--- Resultados del Modelo Supervisado ---\")\n",
    "accuracy = evaluator.evaluate(predictions)\n",
    "precision = MulticlassClassificationEvaluator(labelCol=\"Category_idx\", predictionCol=\"prediction\", metricName=\"weightedPrecision\").evaluate(predictions)\n",
    "recall = MulticlassClassificationEvaluator(labelCol=\"Category_idx\", predictionCol=\"prediction\", metricName=\"weightedRecall\").evaluate(predictions)\n",
    "f1 = MulticlassClassificationEvaluator(labelCol=\"Category_idx\", predictionCol=\"prediction\", metricName=\"f1\").evaluate(predictions)\n",
    "\n",
    "print(f\"Accuracy: {accuracy:.4f}\")\n",
    "print(f\"Weighted Precision: {precision:.4f}\")\n",
    "print(f\"Weighted Recall: {recall:.4f}\")\n",
    "print(f\"F1 Score: {f1:.4f}\")\n"
   ]
  },
  {
   "cell_type": "markdown",
   "id": "8626c361",
   "metadata": {},
   "source": [
    "### Modelo no supervisado: Kmeans con el método del codo\n"
   ]
  },
  {
   "cell_type": "code",
   "execution_count": 54,
   "id": "65bb1ba6",
   "metadata": {},
   "outputs": [
    {
     "name": "stdout",
     "output_type": "stream",
     "text": [
      "Calculando el costo para k de 2 a 9 (Método del Codo)...\n"
     ]
    }
   ],
   "source": [
    "# Evaluar el costo (WSSSE) para diferentes valores de k para encontrar el 'k' óptimo.\n",
    "import numpy as np\n",
    "\n",
    "costs = np.zeros(10)\n",
    "print(\"Calculando el costo para k de 2 a 9 (Método del Codo)...\")\n",
    "for k in range(2, 10):\n",
    "    kmeans = KMeans().setK(k).setSeed(1).setFeaturesCol(\"features\")\n",
    "    model = kmeans.fit(M_prepared)\n",
    "    costs[k] = model.summary.trainingCost"
   ]
  },
  {
   "cell_type": "code",
   "execution_count": 55,
   "id": "f605966f",
   "metadata": {},
   "outputs": [
    {
     "data": {
      "image/png": "[encoded data removed]",
      "text/plain": [
       "<Figure size 800x600 with 1 Axes>"
      ]
     },
     "metadata": {},
     "output_type": "display_data"
    },
    {
     "name": "stdout",
     "output_type": "stream",
     "text": [
      "\n",
      "Seleccionando k=5 basado en el método del codo.\n"
     ]
    }
   ],
   "source": [
    "# Graficar el método del codo\n",
    "import matplotlib.pyplot as plt\n",
    "\n",
    "\n",
    "fig, ax = plt.subplots(1,1, figsize =(8,6))\n",
    "ax.set_xlabel('Número de Clústeres (k)')\n",
    "ax.set_ylabel('Costo (Within Set Sum of Squared Errors)')\n",
    "ax.set_title('Método del Codo para Encontrar k Óptimo')\n",
    "ax.plot(range(2,10), costs[2:10], marker='o')\n",
    "plt.grid(True)\n",
    "plt.show()\n",
    "\n",
    "# Basado en el gráfico del codo, seleccionamos un k óptimo (ej. k=5 como se ve en el gráfico)\n",
    "k_optimal = 5\n",
    "print(f\"\\nSeleccionando k={k_optimal} basado en el método del codo.\")\n",
    "kmeans = KMeans(featuresCol=\"features\", k=k_optimal, seed=1)\n",
    "kmodel = kmeans.fit(M_prepared)\n",
    "kpredictions = kmodel.transform(M_prepared)"
   ]
  },
  {
   "cell_type": "code",
   "execution_count": 56,
   "id": "a78733db",
   "metadata": {},
   "outputs": [
    {
     "name": "stdout",
     "output_type": "stream",
     "text": [
      "\n",
      "--- Resultados del Modelo No Supervisado ---\n",
      "Silhouette Coefficient para k=5: 0.7942\n",
      "Entrenamiento de modelos completado.\n",
      "--------------------------------------------------\n"
     ]
    }
   ],
   "source": [
    "# Evaluar el modelo de clustering con el coeficiente de silueta\n",
    "clustering_evaluator = ClusteringEvaluator(predictionCol=\"prediction\", featuresCol=\"features\", metricName=\"silhouette\", distanceMeasure=\"squaredEuclidean\")\n",
    "silhouette = clustering_evaluator.evaluate(kpredictions)\n",
    "\n",
    "print(\"\\n--- Resultados del Modelo No Supervisado ---\")\n",
    "print(f\"Silhouette Coefficient para k={k_optimal}: {silhouette:.4f}\")\n",
    "print(\"Entrenamiento de modelos completado.\")\n",
    "print(\"-\" * 50)"
   ]
  },
  {
   "cell_type": "markdown",
   "id": "5cdb37dc",
   "metadata": {},
   "source": [
    "## SECCIÓN 5: ANÁLISIS DE RESULTADOS\n"
   ]
  },
  {
   "cell_type": "markdown",
   "id": "edad0725",
   "metadata": {},
   "source": [
    "##### Análisis del Modelo Supervisado (Random Forest Classifier)\n",
    "El objetivo de este modelo era clasificar el tipo de amenaza (Category) basándose en características del incidente. Los resultados de la evaluación con validación cruzada fueron los siguientes:\n",
    "\n",
    "Accuracy: 0.5789\n",
    "\n",
    "Weighted Precision: 0.5370\n",
    "\n",
    "Weighted Recall: 0.5789\n",
    "\n",
    "F1 Score: 0.4884\n",
    "\n",
    "\n",
    "El F1 Score de 0.4884 es la métrica más importante en este caso, ya que considera tanto la precisión como el recall y es más robusto ante el desbalance de clases (un problema común en datos de ciberseguridad, donde algunas categorías de ataque son muy raras). Un valor de ~0.49 indica que el modelo tiene un rendimiento modesto. Si bien es significativamente mejor que una clasificación al azar, demuestra que el modelo tiene dificultades para generalizar correctamente para todas las categorías.\n",
    "\n",
    "La exactitud (Accuracy) de ~0.58 es mayor que el F1 Score. Esto suele ser un indicio de que el modelo está prediciendo correctamente las clases mayoritarias (como InitialAccess y Discovery), pero falla en las clases con menos muestras, lo cual penaliza el F1 Score.\n",
    "\n",
    "Fortalezas:\n",
    "\n",
    "Metodología Robusta: El uso de muestreo estratificado y división estratificada garantiza que la evaluación del modelo sea justa y no esté sesgada por la distribución desigual de las categorías.\n",
    "\n",
    "Prevención de Sobreajuste: La implementación de Validación Cruzada (CrossValidator) para el ajuste de hiperparámetros (numTrees, maxDepth) es una fortaleza clave. Asegura que el modelo seleccionado generalice bien a datos no vistos y no esté sobreajustado al conjunto de entrenamiento.\n",
    "\n",
    "Identificación de Patrones: A pesar del rendimiento modesto, el modelo ha logrado identificar patrones básicos en los datos, superando una línea base aleatoria.\n",
    "\n",
    "Áreas de Oportunidad y Pasos Siguientes:\n",
    "\n",
    "Manejo del Desbalance de Clases: El F1 Score bajo sugiere que el principal problema es el desbalance. Se podría mejorar el modelo asignando pesos a las clases para dar más importancia a las categorías minoritarias durante el entrenamiento. En PySpark, esto se puede hacer con el parámetro weightCol en el clasificador.\n",
    "\n",
    "Ingeniería de Características (Feature Engineering): El modelo actual usa un conjunto limitado de características. Se podrían incluir otras variables del dataset como DetectorId o ThreatFamily (previamente codificadas) para darle más información al modelo.\n",
    "\n",
    "Optimización de Hiperparámetros Avanzada: La búsqueda en cuadrícula (ParamGrid) fue limitada. Se podría ampliar el rango de numTrees y maxDepth o incluir otros parámetros como minInstancesPerNode para refinar el modelo.\n",
    "\n",
    "Probar Algoritmos Alternativos: Un GBTClassifier (Gradient-Boosted Trees) a menudo supera a Random Forest en problemas de clasificación tabular y podría ofrecer un mejor rendimiento."
   ]
  },
  {
   "cell_type": "markdown",
   "id": "582b13e3",
   "metadata": {},
   "source": [
    "##### Análisis del Modelo No Supervisado (KMeans)\n",
    "Este modelo buscaba agrupar los incidentes en clústeres basados en sus características, sin conocer de antemano la Category.\n",
    "\n",
    "Elección de k (Método del Codo): k=5\n",
    "\n",
    "Coeficiente de Silueta: 0.7942\n",
    "\n",
    "Interpretación de Resultados:\n",
    "\n",
    "Un Coeficiente de Silueta de 0.7942 es un resultado excelente. Los valores de silueta por encima de 0.7 indican que la estructura de clústeres es fuerte, densa y bien separada. Esto significa que el algoritmo fue capaz de encontrar 5 grupos de incidentes muy distintos entre sí, basándose en las características proporcionadas (IncidentGrade, EntityType, ResourceType, OSFamily).\n",
    "\n",
    "Fortalezas:\n",
    "\n",
    "Selección de 'k' Basada en Datos: El uso del Método del Codo para determinar el número de clústeres es una gran fortaleza. Proporciona una justificación empírica para elegir k=5, en lugar de ser una suposición arbitraria.\n",
    "\n",
    "Alta Separabilidad de Clústeres: El alto valor de la silueta es la principal fortaleza. Sugiere que las características seleccionadas son muy relevantes para diferenciar tipos de incidentes y que existen agrupaciones naturales en los datos.\n",
    "\n",
    "Descubrimiento de Patrones Ocultos: Este modelo ha demostrado con éxito que puede identificar grupos de amenazas sin necesidad de etiquetas, lo cual es muy valioso para detectar patrones de ataque nuevos o no catalogados.\n",
    "\n",
    "Áreas de Oportunidad y Pasos Siguientes:\n",
    "\n",
    "Perfilado de Clústeres (Cluster Profiling): El paso más importante ahora es interpretar qué significa cada clúster. Para ello, se debe agrupar el dataframe kpredictions por la columna prediction (el ID del clúster) y analizar la distribución de las características dentro de cada uno. Por ejemplo:\n",
    "\n",
    "¿El clúster 0 está compuesto mayoritariamente por EntityType = 'Ip' y OSFamily = 'Windows'?\n",
    "\n",
    "¿El clúster 1 contiene principalmente IncidentGrade = 'TruePositive'? Este análisis le daría un significado práctico a cada grupo (ej., \"Clúster de ataques de red a Windows\", \"Clúster de actividad de usuario de alto riesgo\")\n",
    "\n",
    "Visualización de Clústeres: Para validar visualmente la alta puntuación de silueta, se podrían usar técnicas de reducción de dimensionalidad como PCA (Análisis de Componentes Principales) sobre el vector features y luego graficar los puntos de datos en 2D, coloreándolos por su ID de clúster. Esto debería mostrar grupos visiblemente separados."
   ]
  },
  {
   "cell_type": "markdown",
   "id": "a0b1c2d3",
   "metadata": {},
   "source": [
    "# Visualización de Resultados y Validación Cruzada"
   ]
  },
  {
   "cell_type": "markdown",
   "id": "e4e9f9c0",
   "metadata": {},
   "source": [
    "## SECCIÓN 3: EXPERIMENTACIÓN (MODELO SUPERVISADO CON VALIDACIÓN CRUZADA)"
   ]
  },
  {
   "cell_type": "markdown",
   "id": "a2b3c4d5",
   "metadata": {},
   "source": [
    "### 3.1. Definir un proceso de validación cruzada\n",
    "\n",
    "Para obtener una medida robusta y fiable del rendimiento de nuestro modelo de clasificación, implementaremos la técnica de **validación cruzada k-fold**. Esta técnica consiste en dividir el conjunto de datos en 'k' subconjuntos (o \"pliegues\", *folds*) de tamaño similar. Luego, se entrena el modelo 'k' veces, utilizando en cada ocasión un pliegue diferente como conjunto de prueba y los 'k-1' pliegues restantes como conjunto de entrenamiento. El rendimiento final del modelo se calcula como el promedio de las métricas obtenidas en las 'k' iteraciones.\n",
    "\n",
    "**Justificación de la elección de k = 5:**\n",
    "\n",
    "Se ha elegido un valor de **k=5** por las siguientes razones:\n",
    "\n",
    "- **Balance entre Sesgo y Varianza:** Un valor de k=5 es un estándar en la industria del aprendizaje automático. Ofrece un excelente equilibrio: reduce la varianza en la estimación del rendimiento en comparación con un k más bajo (como k=3) y evita el alto costo computacional de un k más alto (como k=10), que es una consideración crítica en un entorno de Big Data.\n",
    "\n",
    "- **Representatividad de los Pliegues:** Con k=5, cada pliegue de validación contendrá el 20% de los datos de la muestra M. Este tamaño es lo suficientemente grande como para constituir una muestra representativa de los datos, asegurando que la evaluación del rendimiento en cada iteración sea estable y significativa.\n",
    "\n",
    "- **Eficiencia Computacional:** En el contexto de Big Data, la eficiencia es clave. Realizar 5 ciclos de entrenamiento y evaluación (en lugar de 10 o más) permite una experimentación más rápida sin sacrificar significativamente la fiabilidad de los resultados. PySpark se encargará de distribuir esta carga de trabajo de manera eficiente a través del clúster."
   ]
  },
  {
   "cell_type": "markdown",
   "id": "f5e6d7c8",
   "metadata": {},
   "source": [
    "### 3.2. Construcción de los “k-folds” definidos en paso 1\n",
    "\n",
    "La construcción de los k-folds se realizará de manera automática utilizando la clase `CrossValidator` de la biblioteca PySpark ML. Esta herramienta está optimizada para entornos de Big Data y gestiona internamente la división de los datos en los 5 pliegues.\n",
    "\n",
    "Una ventaja fundamental de `CrossValidator` es que implementa una **división estratificada**. Esto significa que al crear los pliegues, se preserva la proporción de cada clase de la variable objetivo (`Category`). Dado que nuestro conjunto de datos está desbalanceado (algunas categorías de ataques son mucho más frecuentes que otras), la estratificación es esencial para garantizar que cada pliegue sea una minirrepresentación fiel de la población de datos original. Esto evita que un pliegue tenga, por casualidad, muy pocas o ninguna muestra de una clase minoritaria, lo que conduciría a una evaluación de rendimiento sesgada y poco fiable."
   ]
  },
  {
   "cell_type": "markdown",
   "id": "g9h8i7j1",
   "metadata": {},
   "source": [
    "### 3.3. Fase de entrenamiento\n",
    "Ahora procedemos a la fase de experimentación. Configuraremos un clasificador `RandomForestClassifier` y una cuadrícula de hiperparámetros (`ParamGridBuilder`) para que `CrossValidator` encuentre la mejor combinación. El entrenamiento se realizará sobre la totalidad de la muestra `M_prepared`."
   ]
  },
  {
   "cell_type": "code",
   "execution_count": 57,
   "id": "61580426",
   "metadata": {},
   "outputs": [
    {
     "name": "stdout",
     "output_type": "stream",
     "text": [
      "Iniciando entrenamiento con validación cruzada (k=5)...\n",
      "Entrenamiento completado.\n"
     ]
    }
   ],
   "source": [
    "# Modelo supervisado: Random Forest\n",
    "rf = RandomForestClassifier(labelCol=\"Category_idx\", featuresCol=\"features\", seed=42)\n",
    "\n",
    "# Cuadrícula de hiperparámetros para optimizar el modelo\n",
    "paramGrid = (ParamGridBuilder()\n",
    "             .addGrid(rf.numTrees, [20, 50])  # Número de árboles en el bosque\n",
    "             .addGrid(rf.maxDepth, [5, 10])   # Profundidad máxima de los árboles\n",
    "             .build())\n",
    "\n",
    "# Evaluador para la validación cruzada.\n",
    "evaluator_cv = MulticlassClassificationEvaluator(labelCol=\"Category_idx\", predictionCol=\"prediction\", metricName=\"accuracy\")\n",
    "\n",
    "# Configuración del validador cruzado con k=5\n",
    "cv = CrossValidator(estimator=rf,\n",
    "                    estimatorParamMaps=paramGrid,\n",
    "                    evaluator=evaluator_cv,\n",
    "                    numFolds=5,  # Usando k=5 como se definió\n",
    "                    seed=42)\n",
    "\n",
    "# Entrenar el modelo\n",
    "print(\"Iniciando entrenamiento con validación cruzada (k=5)...\")\n",
    "cvModel = cv.fit(M_prepared)\n",
    "print(\"Entrenamiento completado.\")"
   ]
  },
  {
   "cell_type": "markdown",
   "id": "h2i7k6l0",
   "metadata": {},
   "source": [
    "## SECCIÓN 4: RESULTADOS"
   ]
  },
  {
   "cell_type": "code",
   "execution_count": 58,
   "id": "d166a57e",
   "metadata": {},
   "outputs": [
    {
     "name": "stdout",
     "output_type": "stream",
     "text": [
      "Requirement already satisfied: seaborn in c:\\users\\luis_\\anaconda3\\envs\\env_pyspark\\lib\\site-packages (0.13.2)\n",
      "Requirement already satisfied: numpy!=1.24.0,>=1.20 in c:\\users\\luis_\\anaconda3\\envs\\env_pyspark\\lib\\site-packages (from seaborn) (1.26.4)\n",
      "Requirement already satisfied: pandas>=1.2 in c:\\users\\luis_\\anaconda3\\envs\\env_pyspark\\lib\\site-packages (from seaborn) (2.2.3)\n",
      "Requirement already satisfied: matplotlib!=3.6.1,>=3.4 in c:\\users\\luis_\\anaconda3\\envs\\env_pyspark\\lib\\site-packages (from seaborn) (3.10.3)\n",
      "Requirement already satisfied: contourpy>=1.0.1 in c:\\users\\luis_\\anaconda3\\envs\\env_pyspark\\lib\\site-packages (from matplotlib!=3.6.1,>=3.4->seaborn) (1.3.2)\n",
      "Requirement already satisfied: cycler>=0.10 in c:\\users\\luis_\\anaconda3\\envs\\env_pyspark\\lib\\site-packages (from matplotlib!=3.6.1,>=3.4->seaborn) (0.12.1)\n",
      "Requirement already satisfied: fonttools>=4.22.0 in c:\\users\\luis_\\anaconda3\\envs\\env_pyspark\\lib\\site-packages (from matplotlib!=3.6.1,>=3.4->seaborn) (4.58.2)\n",
      "Requirement already satisfied: kiwisolver>=1.3.1 in c:\\users\\luis_\\anaconda3\\envs\\env_pyspark\\lib\\site-packages (from matplotlib!=3.6.1,>=3.4->seaborn) (1.4.8)\n",
      "Requirement already satisfied: packaging>=20.0 in c:\\users\\luis_\\appdata\\roaming\\python\\python312\\site-packages (from matplotlib!=3.6.1,>=3.4->seaborn) (24.1)\n",
      "Requirement already satisfied: pillow>=8 in c:\\users\\luis_\\anaconda3\\envs\\env_pyspark\\lib\\site-packages (from matplotlib!=3.6.1,>=3.4->seaborn) (11.2.1)\n",
      "Requirement already satisfied: pyparsing>=2.3.1 in c:\\users\\luis_\\anaconda3\\envs\\env_pyspark\\lib\\site-packages (from matplotlib!=3.6.1,>=3.4->seaborn) (3.2.3)\n",
      "Requirement already satisfied: python-dateutil>=2.7 in c:\\users\\luis_\\appdata\\roaming\\python\\python312\\site-packages (from matplotlib!=3.6.1,>=3.4->seaborn) (2.9.0.post0)\n",
      "Requirement already satisfied: pytz>=2020.1 in c:\\users\\luis_\\anaconda3\\envs\\env_pyspark\\lib\\site-packages (from pandas>=1.2->seaborn) (2024.1)\n",
      "Requirement already satisfied: tzdata>=2022.7 in c:\\users\\luis_\\anaconda3\\envs\\env_pyspark\\lib\\site-packages (from pandas>=1.2->seaborn) (2023.3)\n",
      "Requirement already satisfied: six>=1.5 in c:\\users\\luis_\\appdata\\roaming\\python\\python312\\site-packages (from python-dateutil>=2.7->matplotlib!=3.6.1,>=3.4->seaborn) (1.16.0)\n",
      "Muestra M (30% del total) construida exitosamente.\n",
      "Total de filas en la muestra M: 2170\n",
      "+-------------------+-----+\n",
      "|Category           |count|\n",
      "+-------------------+-----+\n",
      "|InitialAccess      |970  |\n",
      "|Discovery          |593  |\n",
      "|SuspiciousActivity |211  |\n",
      "|Exfiltration       |115  |\n",
      "|LateralMovement    |87   |\n",
      "|PrivilegeEscalation|67   |\n",
      "|CredentialAccess   |48   |\n",
      "|Impact             |27   |\n",
      "|Execution          |20   |\n",
      "|DefenseEvasion     |15   |\n",
      "|CommandAndControl  |12   |\n",
      "|Persistence        |5    |\n",
      "+-------------------+-----+\n",
      "\n"
     ]
    }
   ],
   "source": [
    "from pyspark.sql import SparkSession\n",
    "import pyspark.sql.functions as F\n",
    "from pyspark.sql.window import Window\n",
    "from pyspark.ml.feature import StringIndexer, StringIndexerModel, VectorAssembler\n",
    "from pyspark.ml.classification import RandomForestClassifier\n",
    "from pyspark.ml.clustering import KMeans\n",
    "from pyspark.ml.evaluation import MulticlassClassificationEvaluator, ClusteringEvaluator\n",
    "from pyspark.ml.tuning import ParamGridBuilder, CrossValidator\n",
    "import numpy as np\n",
    "import pandas as pd\n",
    "import matplotlib.pyplot as plt\n",
    "!pip install seaborn\n",
    "import seaborn as sns\n",
    "\n",
    "spark = SparkSession.builder.appName('Actividad5_VisualizacionResultados').getOrCreate()\n",
    "\n",
    "# Cargar datos\n",
    "df = spark.read.csv('C:/Users/luis_/Downloads/archive/GUIDE_Train.csv', header=True, inferSchema=True)\n",
    "\n",
    "# Limpiar los datos eliminando filas con valores nulos en columnas clave\n",
    "cols_to_use = [\"IncidentGrade\", \"EntityType\", \"ResourceType\", \"OSFamily\", \"Category\"]\n",
    "df_clean = df.dropna(subset=cols_to_use)\n",
    "\n",
    "# Calcular las fracciones para el muestreo estratificado\n",
    "fractions = df_clean.select(\"Category\").distinct().withColumn(\"fraction\", F.lit(0.3)).rdd.collectAsMap()\n",
    "\n",
    "# Realizar el muestreo estratificado\n",
    "M = df_clean.stat.sampleBy(\"Category\", fractions, seed=42)\n",
    "\n",
    "print(\"Muestra M (30% del total) construida exitosamente.\")\n",
    "print(f\"Total de filas en la muestra M: {M.count()}\")\n",
    "M.groupBy(\"Category\").count().orderBy(F.col(\"count\").desc()).show(truncate=False)"
   ]
  },
  {
   "cell_type": "code",
   "execution_count": 59,
   "id": "601670bf",
   "metadata": {},
   "outputs": [
    {
     "name": "stdout",
     "output_type": "stream",
     "text": [
      "Datos preprocesados y listos para el entrenamiento.\n",
      "+-----------------+--------------+----------------+------------+-----------------+------------+\n",
      "|IncidentGrade_idx|EntityType_idx|ResourceType_idx|OSFamily_idx|features         |Category_idx|\n",
      "+-----------------+--------------+----------------+------------+-----------------+------------+\n",
      "|2.0              |0.0           |8.0             |0.0         |[2.0,0.0,8.0,0.0]|1.0         |\n",
      "|1.0              |0.0           |0.0             |0.0         |(4,[0],[1.0])    |0.0         |\n",
      "|0.0              |0.0           |0.0             |0.0         |(4,[],[])        |0.0         |\n",
      "|0.0              |0.0           |11.0            |0.0         |(4,[2],[11.0])   |0.0         |\n",
      "|0.0              |0.0           |1.0             |0.0         |(4,[2],[1.0])    |1.0         |\n",
      "+-----------------+--------------+----------------+------------+-----------------+------------+\n",
      "only showing top 5 rows\n",
      "\n"
     ]
    }
   ],
   "source": [
    "# Crear una lista de las columnas de características a indexar\n",
    "feature_cols_to_index = [\"IncidentGrade\", \"EntityType\", \"ResourceType\", \"OSFamily\"]\n",
    "\n",
    "# Indexar las columnas de características en un bucle\n",
    "for column in feature_cols_to_index:\n",
    "    indexer = StringIndexer(inputCol=column, outputCol=column + \"_idx\", handleInvalid='keep')\n",
    "    M = indexer.fit(M).transform(M)\n",
    "\n",
    "# Indexar la columna objetivo ('Category') por separado y guardar el modelo ajustado\n",
    "category_indexer = StringIndexer(inputCol=\"Category\", outputCol=\"Category_idx\", handleInvalid='keep')\n",
    "category_indexer_model = category_indexer.fit(M)\n",
    "M = category_indexer_model.transform(M)\n",
    "\n",
    "# Ensamblar las características en un único vector\n",
    "feature_cols = [\"IncidentGrade_idx\", \"EntityType_idx\", \"ResourceType_idx\", \"OSFamily_idx\"]\n",
    "assembler = VectorAssembler(inputCols=feature_cols, outputCol=\"features\")\n",
    "M_prepared = assembler.transform(M)\n",
    "\n",
    "print(\"Datos preprocesados y listos para el entrenamiento.\")\n",
    "M_prepared.select(feature_cols + [\"features\", \"Category_idx\"]).show(5, truncate=False)"
   ]
  },
  {
   "cell_type": "markdown",
   "id": "i3j6k5m9",
   "metadata": {},
   "source": [
    "### 4.1. Visualización del Proceso de Ajuste de Hiperparámetros\n",
    "Podemos visualizar el rendimiento promedio (accuracy) obtenido en la validación cruzada para cada combinación de hiperparámetros. Esto nos ayuda a entender cómo la complejidad del modelo (número de árboles y su profundidad) afecta su capacidad de generalización y por qué `CrossValidator` eligió el modelo final."
   ]
  },
  {
   "cell_type": "code",
   "execution_count": 60,
   "id": "k8l9m4n2",
   "metadata": {},
   "outputs": [
    {
     "data": {
      "image/png": "[encoded data removed]",
      "text/plain": [
       "<Figure size 1000x600 with 1 Axes>"
      ]
     },
     "metadata": {},
     "output_type": "display_data"
    }
   ],
   "source": [
    "# Extraer los resultados de la validación cruzada\n",
    "import pandas as pd\n",
    "import seaborn as sns\n",
    "\n",
    "avg_metrics = cvModel.avgMetrics\n",
    "\n",
    "# Crear un DataFrame de pandas para facilitar la visualización\n",
    "results = []\n",
    "for params, metric in zip(paramGrid, avg_metrics):\n",
    "    results.append({\n",
    "        'numTrees': params[rf.numTrees],\n",
    "        'maxDepth': params[rf.maxDepth],\n",
    "        'accuracy': metric\n",
    "    })\n",
    "results_df = pd.DataFrame(results)\n",
    "\n",
    "# Crear el gráfico\n",
    "plt.figure(figsize=(10, 6))\n",
    "sns.lineplot(data=results_df, x='numTrees', y='accuracy', hue='maxDepth', marker='o', palette='viridis')\n",
    "plt.title('Rendimiento del Modelo vs. Hiperparámetros (Validación Cruzada k=5)')\n",
    "plt.xlabel('Número de Árboles (numTrees)')\n",
    "plt.ylabel('Accuracy Promedio en Cross-Validation')\n",
    "plt.grid(True)\n",
    "plt.legend(title='Profundidad Máxima (maxDepth)')\n",
    "plt.show()"
   ]
  },
  {
   "cell_type": "markdown",
   "id": "j4k5l6o3",
   "metadata": {},
   "source": [
    "### 4.2. Evaluación del Mejor Modelo\n",
    "Una vez que `CrossValidator` ha identificado los mejores hiperparámetros, reentrena el modelo en todo el conjunto de datos `M_prepared`. Ahora, evaluamos este modelo final utilizando un conjunto de métricas completo. Es importante recordar que esta evaluación se hace sobre los mismos datos de entrenamiento, pero el modelo fue seleccionado por su capacidad de generalizar durante la validación cruzada."
   ]
  },
  {
   "cell_type": "code",
   "execution_count": 61,
   "id": "242a0c7b",
   "metadata": {},
   "outputs": [
    {
     "name": "stdout",
     "output_type": "stream",
     "text": [
      "--- Resultados del Mejor Modelo Supervisado ---\n",
      "Accuracy: 0.5668\n",
      "Weighted Precision: 0.6379\n",
      "Weighted Recall: 0.5668\n",
      "F1 Score: 0.4742\n"
     ]
    },
    {
     "data": {
      "image/png": "[encoded data removed]",
      "text/plain": [
       "<Figure size 800x500 with 1 Axes>"
      ]
     },
     "metadata": {},
     "output_type": "display_data"
    }
   ],
   "source": [
    "# Realizar predicciones con el mejor modelo encontrado por CV\n",
    "predictions = cvModel.transform(M_prepared)\n",
    "\n",
    "# Usaremos múltiples evaluadores para obtener diferentes métricas\n",
    "evaluator_accuracy = MulticlassClassificationEvaluator(labelCol=\"Category_idx\", predictionCol=\"prediction\", metricName=\"accuracy\")\n",
    "evaluator_precision = MulticlassClassificationEvaluator(labelCol=\"Category_idx\", predictionCol=\"prediction\", metricName=\"weightedPrecision\")\n",
    "evaluator_recall = MulticlassClassificationEvaluator(labelCol=\"Category_idx\", predictionCol=\"prediction\", metricName=\"weightedRecall\")\n",
    "evaluator_f1 = MulticlassClassificationEvaluator(labelCol=\"Category_idx\", predictionCol=\"prediction\", metricName=\"f1\")\n",
    "\n",
    "# Calcular métricas\n",
    "accuracy = evaluator_accuracy.evaluate(predictions)\n",
    "precision = evaluator_precision.evaluate(predictions)\n",
    "recall = evaluator_recall.evaluate(predictions)\n",
    "f1 = evaluator_f1.evaluate(predictions)\n",
    "\n",
    "metrics = {'Accuracy': accuracy, 'Weighted Precision': precision, 'Weighted Recall': recall, 'F1 Score': f1}\n",
    "\n",
    "print(\"--- Resultados del Mejor Modelo Supervisado ---\")\n",
    "for name, value in metrics.items():\n",
    "    print(f\"{name}: {value:.4f}\")\n",
    "\n",
    "# Visualizar las métricas\n",
    "plt.figure(figsize=(8, 5))\n",
    "sns.barplot(x=list(metrics.keys()), y=list(metrics.values()))\n",
    "plt.title('Métricas de Rendimiento del Modelo Final')\n",
    "plt.ylabel('Puntuación')\n",
    "plt.ylim(0, 1)\n",
    "for index, value in enumerate(list(metrics.values())):\n",
    "    plt.text(index, value + 0.02, f'{value:.4f}', ha='center')\n",
    "plt.show()"
   ]
  },
  {
   "cell_type": "markdown",
   "id": "l9m8n7p1",
   "metadata": {},
   "source": [
    "### 4.3. Matriz de Confusión\n",
    "La matriz de confusión es una de las herramientas de visualización más importantes para un problema de clasificación. Nos permite ver en detalle el rendimiento del modelo para cada clase, mostrando los aciertos (la diagonal principal) y los errores (fuera de la diagonal). Es especialmente útil para identificar qué clases son confundidas entre sí, un aspecto clave en datasets desbalanceados."
   ]
  },
  {
   "cell_type": "code",
   "execution_count": 62,
   "id": "corrected_confusion_matrix",
   "metadata": {},
   "outputs": [
    {
     "name": "stdout",
     "output_type": "stream",
     "text": [
      "Requirement already satisfied: seaborn in c:\\users\\luis_\\anaconda3\\envs\\env_pyspark\\lib\\site-packages (0.13.2)\n",
      "Requirement already satisfied: scikit-learn in c:\\users\\luis_\\anaconda3\\envs\\env_pyspark\\lib\\site-packages (1.7.0)\n",
      "Requirement already satisfied: numpy!=1.24.0,>=1.20 in c:\\users\\luis_\\anaconda3\\envs\\env_pyspark\\lib\\site-packages (from seaborn) (1.26.4)\n",
      "Requirement already satisfied: pandas>=1.2 in c:\\users\\luis_\\anaconda3\\envs\\env_pyspark\\lib\\site-packages (from seaborn) (2.2.3)\n",
      "Requirement already satisfied: matplotlib!=3.6.1,>=3.4 in c:\\users\\luis_\\anaconda3\\envs\\env_pyspark\\lib\\site-packages (from seaborn) (3.10.3)\n",
      "Requirement already satisfied: scipy>=1.8.0 in c:\\users\\luis_\\anaconda3\\envs\\env_pyspark\\lib\\site-packages (from scikit-learn) (1.15.3)\n",
      "Requirement already satisfied: joblib>=1.2.0 in c:\\users\\luis_\\anaconda3\\envs\\env_pyspark\\lib\\site-packages (from scikit-learn) (1.5.1)\n",
      "Requirement already satisfied: threadpoolctl>=3.1.0 in c:\\users\\luis_\\anaconda3\\envs\\env_pyspark\\lib\\site-packages (from scikit-learn) (3.6.0)\n",
      "Requirement already satisfied: contourpy>=1.0.1 in c:\\users\\luis_\\anaconda3\\envs\\env_pyspark\\lib\\site-packages (from matplotlib!=3.6.1,>=3.4->seaborn) (1.3.2)\n",
      "Requirement already satisfied: cycler>=0.10 in c:\\users\\luis_\\anaconda3\\envs\\env_pyspark\\lib\\site-packages (from matplotlib!=3.6.1,>=3.4->seaborn) (0.12.1)\n",
      "Requirement already satisfied: fonttools>=4.22.0 in c:\\users\\luis_\\anaconda3\\envs\\env_pyspark\\lib\\site-packages (from matplotlib!=3.6.1,>=3.4->seaborn) (4.58.2)\n",
      "Requirement already satisfied: kiwisolver>=1.3.1 in c:\\users\\luis_\\anaconda3\\envs\\env_pyspark\\lib\\site-packages (from matplotlib!=3.6.1,>=3.4->seaborn) (1.4.8)\n",
      "Requirement already satisfied: packaging>=20.0 in c:\\users\\luis_\\appdata\\roaming\\python\\python312\\site-packages (from matplotlib!=3.6.1,>=3.4->seaborn) (24.1)\n",
      "Requirement already satisfied: pillow>=8 in c:\\users\\luis_\\anaconda3\\envs\\env_pyspark\\lib\\site-packages (from matplotlib!=3.6.1,>=3.4->seaborn) (11.2.1)\n",
      "Requirement already satisfied: pyparsing>=2.3.1 in c:\\users\\luis_\\anaconda3\\envs\\env_pyspark\\lib\\site-packages (from matplotlib!=3.6.1,>=3.4->seaborn) (3.2.3)\n",
      "Requirement already satisfied: python-dateutil>=2.7 in c:\\users\\luis_\\appdata\\roaming\\python\\python312\\site-packages (from matplotlib!=3.6.1,>=3.4->seaborn) (2.9.0.post0)\n",
      "Requirement already satisfied: pytz>=2020.1 in c:\\users\\luis_\\anaconda3\\envs\\env_pyspark\\lib\\site-packages (from pandas>=1.2->seaborn) (2024.1)\n",
      "Requirement already satisfied: tzdata>=2022.7 in c:\\users\\luis_\\anaconda3\\envs\\env_pyspark\\lib\\site-packages (from pandas>=1.2->seaborn) (2023.3)\n",
      "Requirement already satisfied: six>=1.5 in c:\\users\\luis_\\appdata\\roaming\\python\\python312\\site-packages (from python-dateutil>=2.7->matplotlib!=3.6.1,>=3.4->seaborn) (1.16.0)\n"
     ]
    },
    {
     "data": {
      "image/png": "[encoded data removed]",
      "text/plain": [
       "<Figure size 1200x1000 with 2 Axes>"
      ]
     },
     "metadata": {},
     "output_type": "display_data"
    }
   ],
   "source": [
    "# Obtener las etiquetas originales de las predicciones e índices\n",
    "preds_and_labels = predictions.select(['prediction', 'Category_idx']).withColumn('label', F.col('Category_idx')).toPandas()\n",
    "y_pred = preds_and_labels['prediction']\n",
    "y_true = preds_and_labels['label']\n",
    "\n",
    "# Obtener los nombres de las clases desde el modelo StringIndexer que guardamos anteriormente\n",
    "class_labels = category_indexer_model.labels\n",
    "\n",
    "# Calcular la matriz de confusión usando scikit-learn\n",
    "!pip install seaborn scikit-learn\n",
    "from sklearn.metrics import confusion_matrix\n",
    "cm = confusion_matrix(y_true, y_pred)\n",
    "\n",
    "# Visualizar la matriz de confusión\n",
    "plt.figure(figsize=(12, 10))\n",
    "sns.heatmap(cm, annot=True, fmt='d', cmap='Blues', xticklabels=class_labels, yticklabels=class_labels)\n",
    "plt.title('Matriz de Confusión del Modelo Random Forest')\n",
    "plt.ylabel('Etiqueta Verdadera (True Label)')\n",
    "plt.xlabel('Predicción (Predicted Label)')\n",
    "plt.show()"
   ]
  },
  {
   "cell_type": "markdown",
   "id": "n3o2p1r3",
   "metadata": {},
   "source": [
    "### 4.4. Modelo No Supervisado (KMeans) y Perfilado de Clústeres\n",
    "\n",
    "Revisitamos el modelo de clustering para aplicar el paso más importante después del entrenamiento: el **perfilado de clústeres**. El objetivo es entender la composición de cada clúster para darle un significado de negocio. Analizaremos la distribución de las características originales dentro de cada uno de los 5 grupos identificados."
   ]
  },
  {
   "cell_type": "code",
   "execution_count": 63,
   "id": "c7bebff0",
   "metadata": {},
   "outputs": [
    {
     "name": "stdout",
     "output_type": "stream",
     "text": [
      "Silhouette Coefficient para k=5: 0.7942\n",
      "\n",
      "--- Perfilado de Clústeres (Distribución de Características por Clúster) ---\n",
      "+----------+--------------------+-----------------+---------------+\n",
      "|prediction|median_IncidentGrade|median_EntityType|median_OSFamily|\n",
      "+----------+--------------------+-----------------+---------------+\n",
      "|0         |0.0                 |0.0              |0.0            |\n",
      "|1         |0.0                 |0.0              |0.0            |\n",
      "|2         |1.0                 |0.0              |0.0            |\n",
      "|3         |0.0                 |0.0              |0.0            |\n",
      "|4         |2.0                 |0.0              |0.0            |\n",
      "+----------+--------------------+-----------------+---------------+\n",
      "\n"
     ]
    }
   ],
   "source": [
    "# Re-entrenamos el modelo KMeans para obtener las predicciones de clúster\n",
    "k_optimal = 5\n",
    "kmeans = KMeans(featuresCol=\"features\", k=k_optimal, seed=1)\n",
    "kmodel = kmeans.fit(M_prepared)\n",
    "kpredictions = kmodel.transform(M_prepared)\n",
    "\n",
    "# Evaluar con Silhouette Score\n",
    "clustering_evaluator = ClusteringEvaluator(predictionCol=\"prediction\", featuresCol=\"features\", metricName=\"silhouette\", distanceMeasure=\"squaredEuclidean\")\n",
    "silhouette = clustering_evaluator.evaluate(kpredictions)\n",
    "print(f\"Silhouette Coefficient para k={k_optimal}: {silhouette:.4f}\\n\")\n",
    "\n",
    "# Perfilado de Clústeres\n",
    "print(\"--- Perfilado de Clústeres (Distribución de Características por Clúster) ---\")\n",
    "cluster_profile = kpredictions.groupBy('prediction').agg(\n",
    "    F.expr('percentile_approx(IncidentGrade_idx, 0.5)').alias('median_IncidentGrade'),\n",
    "    F.expr('percentile_approx(EntityType_idx, 0.5)').alias('median_EntityType'),\n",
    "    F.expr('percentile_approx(OSFamily_idx, 0.5)').alias('median_OSFamily')\n",
    ").orderBy('prediction')\n",
    "\n",
    "cluster_profile.show(truncate=False)"
   ]
  }
 ],
 "metadata": {
  "kernelspec": {
   "display_name": "env_pyspark",
   "language": "python",
   "name": "python3"
  },
  "language_info": {
   "codemirror_mode": {
    "name": "ipython",
    "version": 3
   },
   "file_extension": ".py",
   "mimetype": "text/x-python",
   "name": "python",
   "nbconvert_exporter": "python",
   "pygments_lexer": "ipython3",
   "version": "3.12.9"
  }
 },
 "nbformat": 4,
 "nbformat_minor": 5
}
