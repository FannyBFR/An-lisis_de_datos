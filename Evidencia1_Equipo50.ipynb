{
 "cells": [
  {
   "cell_type": "markdown",
   "id": "fe4a0d4d-edb2-46e9-97f2-d4a58ce2649f",
   "metadata": {},
   "source": [
    "## Microsoft Security Incident Prediction\n"
   ]
  },
  {
   "cell_type": "markdown",
   "id": "93b68240",
   "metadata": {},
   "source": [
    "Este dataset brinda una oportunidad para manejar información de seguridad basada en datos reales, incluyendo alertas y evidencias asociadas, con el objetivo de estimar con exactitud la severidad de los incidentes y las medidas de remediación sugeridas. La solución se enfoca en apoyar a los centros de operaciones de seguridad (SOC) en su proceso de toma de decisiones, mejorando los tiempos de respuesta y minimizando errores en la administración de amenazas."
   ]
  },
  {
   "cell_type": "markdown",
   "id": "e4695c95",
   "metadata": {},
   "source": [
    "## Inicializacion de Spark"
   ]
  },
  {
   "cell_type": "code",
   "execution_count": 1,
   "id": "47e5932a-e512-4ebb-8238-e303d37d590f",
   "metadata": {},
   "outputs": [],
   "source": [
    "from pyspark.sql import SparkSession\n",
    "import pyspark.sql.functions as F\n",
    "spark = SparkSession.builder \\\n",
    "    .appName(\"MuestreoSeguridad\") \\\n",
    "    .getOrCreate()"
   ]
  },
  {
   "cell_type": "code",
   "execution_count": 2,
   "id": "30213971-5fef-43c6-ab6b-233959c17329",
   "metadata": {},
   "outputs": [],
   "source": [
    "df = spark.read.csv(r\"C:\\Users\\luis_\\Downloads\\archive\\GUIDE_Train.csv\", header=True, inferSchema=True)"
   ]
  },
  {
   "cell_type": "code",
   "execution_count": 3,
   "id": "1fb928c1-a26c-4ac8-9872-dfb70733cc87",
   "metadata": {
    "scrolled": true
   },
   "outputs": [
    {
     "name": "stdout",
     "output_type": "stream",
     "text": [
      "root\n",
      " |-- Id: long (nullable = true)\n",
      " |-- OrgId: integer (nullable = true)\n",
      " |-- IncidentId: integer (nullable = true)\n",
      " |-- AlertId: integer (nullable = true)\n",
      " |-- Timestamp: timestamp (nullable = true)\n",
      " |-- DetectorId: integer (nullable = true)\n",
      " |-- AlertTitle: integer (nullable = true)\n",
      " |-- Category: string (nullable = true)\n",
      " |-- MitreTechniques: string (nullable = true)\n",
      " |-- IncidentGrade: string (nullable = true)\n",
      " |-- ActionGrouped: string (nullable = true)\n",
      " |-- ActionGranular: string (nullable = true)\n",
      " |-- EntityType: string (nullable = true)\n",
      " |-- EvidenceRole: string (nullable = true)\n",
      " |-- DeviceId: integer (nullable = true)\n",
      " |-- Sha256: integer (nullable = true)\n",
      " |-- IpAddress: integer (nullable = true)\n",
      " |-- Url: integer (nullable = true)\n",
      " |-- AccountSid: integer (nullable = true)\n",
      " |-- AccountUpn: integer (nullable = true)\n",
      " |-- AccountObjectId: integer (nullable = true)\n",
      " |-- AccountName: integer (nullable = true)\n",
      " |-- DeviceName: integer (nullable = true)\n",
      " |-- NetworkMessageId: integer (nullable = true)\n",
      " |-- EmailClusterId: double (nullable = true)\n",
      " |-- RegistryKey: integer (nullable = true)\n",
      " |-- RegistryValueName: integer (nullable = true)\n",
      " |-- RegistryValueData: integer (nullable = true)\n",
      " |-- ApplicationId: integer (nullable = true)\n",
      " |-- ApplicationName: integer (nullable = true)\n",
      " |-- OAuthApplicationId: integer (nullable = true)\n",
      " |-- ThreatFamily: string (nullable = true)\n",
      " |-- FileName: integer (nullable = true)\n",
      " |-- FolderPath: integer (nullable = true)\n",
      " |-- ResourceIdName: integer (nullable = true)\n",
      " |-- ResourceType: string (nullable = true)\n",
      " |-- Roles: string (nullable = true)\n",
      " |-- OSFamily: integer (nullable = true)\n",
      " |-- OSVersion: integer (nullable = true)\n",
      " |-- AntispamDirection: string (nullable = true)\n",
      " |-- SuspicionLevel: string (nullable = true)\n",
      " |-- LastVerdict: string (nullable = true)\n",
      " |-- CountryCode: integer (nullable = true)\n",
      " |-- State: integer (nullable = true)\n",
      " |-- City: integer (nullable = true)\n",
      "\n"
     ]
    }
   ],
   "source": [
    "df.printSchema()"
   ]
  },
  {
   "cell_type": "markdown",
   "id": "cb5734de-6fee-4d14-a2e9-6a9e2529d075",
   "metadata": {},
   "source": [
    "## Paso 1 Caracterización de la Población"
   ]
  },
  {
   "cell_type": "code",
   "execution_count": 4,
   "id": "ec2cfaaf-6a91-4e06-a44b-1d48023ebec6",
   "metadata": {},
   "outputs": [
    {
     "name": "stdout",
     "output_type": "stream",
     "text": [
      "\n",
      "Análisis de 'Category':\n",
      "+-------------------+-------+\n",
      "|Category           |count  |\n",
      "+-------------------+-------+\n",
      "|InitialAccess      |4293041|\n",
      "|Exfiltration       |1577965|\n",
      "|SuspiciousActivity |1003933|\n",
      "|CommandAndControl  |826691 |\n",
      "|Impact             |750885 |\n",
      "|CredentialAccess   |300518 |\n",
      "|Execution          |267594 |\n",
      "|Malware            |144081 |\n",
      "|Discovery          |129342 |\n",
      "|Persistence        |72682  |\n",
      "|DefenseEvasion     |46662  |\n",
      "|LateralMovement    |41754  |\n",
      "|Ransomware         |18974  |\n",
      "|UnwantedSoftware   |18211  |\n",
      "|Collection         |14753  |\n",
      "|PrivilegeEscalation|4671   |\n",
      "|Exploit            |4648   |\n",
      "|CredentialStealing |388    |\n",
      "|WebExploit         |38     |\n",
      "|Weaponization      |6      |\n",
      "+-------------------+-------+\n",
      "\n"
     ]
    }
   ],
   "source": [
    "print(\"\\nAnálisis de 'Category':\")\n",
    "df.groupBy(\"Category\").count().orderBy(F.col(\"count\").desc()).show(truncate=False)"
   ]
  },
  {
   "cell_type": "code",
   "execution_count": 5,
   "id": "c22e8c34-cb02-4ea6-bdd6-1a543c46d5ef",
   "metadata": {},
   "outputs": [
    {
     "name": "stdout",
     "output_type": "stream",
     "text": [
      "\n",
      "Análisis de 'IncidentGrade':\n",
      "+--------------+-------+\n",
      "|IncidentGrade |count  |\n",
      "+--------------+-------+\n",
      "|BenignPositive|4110817|\n",
      "|TruePositive  |3322713|\n",
      "|FalsePositive |2031967|\n",
      "|NULL          |51340  |\n",
      "+--------------+-------+\n",
      "\n"
     ]
    }
   ],
   "source": [
    "print(\"\\nAnálisis de 'IncidentGrade':\")\n",
    "df.groupBy(\"IncidentGrade\").count().orderBy(F.col(\"count\").desc()).show(truncate=False)"
   ]
  },
  {
   "cell_type": "code",
   "execution_count": 6,
   "id": "59125440-af53-4dfe-9dec-15bada2bdeb8",
   "metadata": {},
   "outputs": [
    {
     "name": "stdout",
     "output_type": "stream",
     "text": [
      "\n",
      "Análisis de 'EntityType':\n",
      "+-----------------+-------+\n",
      "|EntityType       |count  |\n",
      "+-----------------+-------+\n",
      "|Ip               |2181194|\n",
      "|User             |1932416|\n",
      "|MailMessage      |1173154|\n",
      "|Machine          |699208 |\n",
      "|File             |688402 |\n",
      "|Url              |682578 |\n",
      "|CloudLogonRequest|638565 |\n",
      "|Mailbox          |483158 |\n",
      "|Process          |345732 |\n",
      "|MailCluster      |224684 |\n",
      "|CloudApplication |216811 |\n",
      "|CloudLogonSession|212382 |\n",
      "|RegistryValue    |11209  |\n",
      "|AzureResource    |8166   |\n",
      "|RegistryKey      |7277   |\n",
      "|GenericEntity    |4294   |\n",
      "|OAuthApplication |2595   |\n",
      "|Malware          |2580   |\n",
      "|SecurityGroup    |1518   |\n",
      "|BlobContainer    |306    |\n",
      "+-----------------+-------+\n",
      "only showing top 20 rows\n",
      "\n"
     ]
    }
   ],
   "source": [
    "print(\"\\nAnálisis de 'EntityType':\")\n",
    "df.groupBy(\"EntityType\").count().orderBy(F.col(\"count\").desc()).show(truncate=False)"
   ]
  },
  {
   "cell_type": "code",
   "execution_count": 7,
   "id": "51be7eb5-477b-43bc-8871-4b08e481de80",
   "metadata": {},
   "outputs": [
    {
     "name": "stdout",
     "output_type": "stream",
     "text": [
      "\n",
      "Análisis de 'ResourceType':\n",
      "+------------------------------------+-------+\n",
      "|ResourceType                        |count  |\n",
      "+------------------------------------+-------+\n",
      "|NULL                                |9509762|\n",
      "|Virtual Machine                     |4146   |\n",
      "|Key Vault                           |480    |\n",
      "|App Service                         |404    |\n",
      "|Azure Arc machine                   |373    |\n",
      "|Storage Account                     |366    |\n",
      "|Subscription                        |271    |\n",
      "|SQL Database                        |226    |\n",
      "|Azure Database for MySQL Server     |182    |\n",
      "|Azure Resource                      |157    |\n",
      "|Virtual Machine Scale Set           |112    |\n",
      "|API Management Service              |94     |\n",
      "|Key Vault Secret                    |77     |\n",
      "|Azure Database for PostgreSQL Server|45     |\n",
      "|SQL Server                          |41     |\n",
      "|Azure Cosmos DB Account             |30     |\n",
      "|Networking                          |14     |\n",
      "|Synapse SQL Pool                    |11     |\n",
      "|GCP Compute Instance                |10     |\n",
      "|Kubernetes Service                  |9      |\n",
      "+------------------------------------+-------+\n",
      "only showing top 20 rows\n",
      "\n"
     ]
    }
   ],
   "source": [
    "print(\"\\nAnálisis de 'ResourceType':\")\n",
    "df.groupBy(\"ResourceType\").count().orderBy(F.col(\"count\").desc()).show(truncate=False)"
   ]
  },
  {
   "cell_type": "markdown",
   "id": "f2df4f00-2614-4ef0-80f6-617d6eb465e4",
   "metadata": {},
   "source": [
    "### 1b. Análisis de OSFamily (si es relevante y códigos interpretables)            "
   ]
  },
  {
   "cell_type": "code",
   "execution_count": 8,
   "id": "de5d4242-e6d0-467a-b367-068f8e3163b9",
   "metadata": {},
   "outputs": [
    {
     "name": "stdout",
     "output_type": "stream",
     "text": [
      "\n",
      "Análisis de 'OSFamily':\n",
      "+--------+-------+\n",
      "|OSFamily|  count|\n",
      "+--------+-------+\n",
      "|       5|9322565|\n",
      "|       0| 190036|\n",
      "|       1|   2732|\n",
      "|       2|   1496|\n",
      "|       3|      7|\n",
      "|       4|      1|\n",
      "+--------+-------+\n",
      "\n"
     ]
    }
   ],
   "source": [
    "print(\"\\nAnálisis de 'OSFamily':\")\n",
    "df.groupBy(\"OSFamily\").count().orderBy(F.col(\"count\").desc()).show()"
   ]
  },
  {
   "cell_type": "markdown",
   "id": "dd629f04-2eeb-4386-86ee-1c102b64aae7",
   "metadata": {},
   "source": [
    "### 1c. Conteo de Nulos en Variables Clave"
   ]
  },
  {
   "cell_type": "code",
   "execution_count": 12,
   "id": "70fd0bb2-e46c-4676-9a7a-849becec5eb0",
   "metadata": {},
   "outputs": [
    {
     "name": "stdout",
     "output_type": "stream",
     "text": [
      "\n",
      "Conteo de Nulos en Variables Clave:\n",
      "+-------------------+------------------------+---------------------+-----------------------+-------------------+\n",
      "|Category_null_count|IncidentGrade_null_count|EntityType_null_count|ResourceType_null_count|OSFamily_null_count|\n",
      "+-------------------+------------------------+---------------------+-----------------------+-------------------+\n",
      "|                  0|                   51340|                    0|                9509762|                  0|\n",
      "+-------------------+------------------------+---------------------+-----------------------+-------------------+\n",
      "\n"
     ]
    }
   ],
   "source": [
    "print(\"\\nConteo de Nulos en Variables Clave:\")\n",
    "columns_to_check = [\"Category\", \"IncidentGrade\", \"EntityType\", \"ResourceType\", \"OSFamily\"]\n",
    "df.select([F.count(F.when(F.col(c).isNull(), c)).alias(c + '_null_count') for c in columns_to_check]).show()"
   ]
  },
  {
   "cell_type": "markdown",
   "id": "dfe56b1d-21dc-4207-9eeb-340e0aef0679",
   "metadata": {},
   "source": [
    "## Paso 2: Diseño del Particionamiento"
   ]
  },
  {
   "cell_type": "markdown",
   "id": "94f9f94c-c3d6-43ae-8d7d-9f4797570764",
   "metadata": {},
   "source": [
    "### 2a. Selección de Variables de Particionamiento"
   ]
  },
  {
   "cell_type": "code",
   "execution_count": 16,
   "id": "b20274e6-4b68-48f3-b94c-e4461d2ef382",
   "metadata": {},
   "outputs": [],
   "source": [
    "partitioning_var1 = \"Category\"\n",
    "partitioning_var2 = \"IncidentGrade\""
   ]
  },
  {
   "cell_type": "markdown",
   "id": "eed06ad8-3ad2-413d-bfe8-f8dbf06aaf82",
   "metadata": {},
   "source": [
    "### 2b. Cálculo de Proporciones por Combinación"
   ]
  },
  {
   "cell_type": "code",
   "execution_count": 17,
   "id": "bdb79872-aa42-43f3-a015-9c89e308a4a8",
   "metadata": {},
   "outputs": [
    {
     "name": "stdout",
     "output_type": "stream",
     "text": [
      "\n",
      "Calculando proporciones para combinaciones de 'Category' y 'IncidentGrade'...\n",
      "Total de registros en D: 9516837\n",
      "+------------------+--------------+-------+--------------------+\n",
      "|Category          |IncidentGrade |count  |proportion          |\n",
      "+------------------+--------------+-------+--------------------+\n",
      "|InitialAccess     |TruePositive  |2266513|0.23815822420831628 |\n",
      "|Exfiltration      |BenignPositive|1080813|0.11356851020985229 |\n",
      "|InitialAccess     |BenignPositive|1063722|0.11177264042664595 |\n",
      "|InitialAccess     |FalsePositive |954880 |0.10033585738623033 |\n",
      "|CommandAndControl |BenignPositive|563544 |0.059215472535675454|\n",
      "|SuspiciousActivity|BenignPositive|507279 |0.053303319159506465|\n",
      "|Exfiltration      |FalsePositive |368866 |0.038759306269509505|\n",
      "|SuspiciousActivity|TruePositive  |356286 |0.03743743851029496 |\n",
      "|Impact            |BenignPositive|336977 |0.03540850809990757 |\n",
      "|Impact            |TruePositive  |242524 |0.025483676982173804|\n",
      "|Impact            |FalsePositive |171348 |0.01800472152670052 |\n",
      "|CommandAndControl |FalsePositive |145508 |0.015289533696962551|\n",
      "|Execution         |BenignPositive|134108 |0.014091656713254625|\n",
      "|SuspiciousActivity|FalsePositive |131427 |0.01380994546822647 |\n",
      "|CredentialAccess  |BenignPositive|118709 |0.012473577092893364|\n",
      "|CommandAndControl |TruePositive  |116564 |0.012248187081485161|\n",
      "|CredentialAccess  |TruePositive  |109912 |0.011549215353798747|\n",
      "|Exfiltration      |TruePositive  |101077 |0.010620860691425102|\n",
      "|Malware           |BenignPositive|91937  |0.009660457565890852|\n",
      "|Execution         |FalsePositive |87870  |0.00923310969810663 |\n",
      "+------------------+--------------+-------+--------------------+\n",
      "only showing top 20 rows\n",
      "\n"
     ]
    }
   ],
   "source": [
    "print(f\"\\nCalculando proporciones para combinaciones de '{partitioning_var1}' y '{partitioning_var2}'...\")\n",
    "\n",
    "total_count = df.count()\n",
    "print(f\"Total de registros en D: {total_count}\")\n",
    "\n",
    "partition_counts = df.groupBy(partitioning_var1, partitioning_var2).count()\n",
    "\n",
    "partition_proportions = partition_counts.withColumn(\"proportion\", F.col(\"count\") / total_count)\n",
    "partition_proportions.orderBy(F.col(\"count\").desc()).show(truncate=False)"
   ]
  },
  {
   "cell_type": "markdown",
   "id": "33d4a9c6-4a77-4f5a-9aa6-94d36d606bc8",
   "metadata": {},
   "source": [
    "### 2c. Definición de Reglas de Particionamiento"
   ]
  },
  {
   "cell_type": "code",
   "execution_count": 18,
   "id": "1895ef5f-1af7-44a3-ac5a-59f404861d2e",
   "metadata": {},
   "outputs": [],
   "source": [
    "cond_p1 = (F.col(\"Category\") == 'InitialAccess') & (F.col(\"IncidentGrade\") == 'TruePositive')\n",
    "cond_p2 = (F.col(\"Category\") == 'Exfiltration') & (F.col(\"IncidentGrade\") == 'BenignPositive')\n",
    "cond_p3 = (F.col(\"Category\") == 'InitialAccess') & (F.col(\"IncidentGrade\") == 'BenignPositive')\n",
    "cond_p4 = (F.col(\"Category\") == 'InitialAccess') & (F.col(\"IncidentGrade\") == 'FalsePositive')\n",
    "cond_p5 = (F.col(\"Category\") == 'CommandAndControl') & (F.col(\"IncidentGrade\") == 'BenignPositive')\n",
    "cond_p6 = (F.col(\"Category\") == 'SuspiciousActivity') & (F.col(\"IncidentGrade\") == 'BenignPositive')\n",
    "\n",
    "prop_p1 = 0.23815822420831628\n",
    "prop_p2 = 0.11356851020985229\n",
    "prop_p3 = 0.11177264042664595\n",
    "prop_p4 = 0.10033585738623033\n",
    "prop_p5 = 0.059215472535675454\n",
    "prop_p6 = 0.053303319159506465"
   ]
  },
  {
   "cell_type": "code",
   "execution_count": 19,
   "id": "6b8e29d1-db03-4c8a-834d-15722db9797b",
   "metadata": {},
   "outputs": [
    {
     "name": "stdout",
     "output_type": "stream",
     "text": [
      "Reglas de particionamiento definidas:\n",
      "- P1_InitAccess_TruePos: Estimación 23.8158%\n",
      "- P2_Exfiltration_BenignPos: Estimación 11.3569%\n",
      "- P3_InitAccess_BenignPos: Estimación 11.1773%\n",
      "- P4_InitAccess_FalsePos: Estimación 10.0336%\n",
      "- P5_CmdCtrl_BenignPos: Estimación 5.9215%\n",
      "- P6_SuspAct_BenignPos: Estimación 5.3303%\n",
      "\n",
      "Suma total de proporciones estimadas: 0.6764\n"
     ]
    }
   ],
   "source": [
    "partition_rules = [\n",
    "    {\n",
    "        \"name\": \"P1_InitAccess_TruePos\",\n",
    "        \"filter_expr\": cond_p1,\n",
    "        \"est_proportion\": prop_p1\n",
    "    },\n",
    "    {\n",
    "        \"name\": \"P2_Exfiltration_BenignPos\",\n",
    "        \"filter_expr\": cond_p2,\n",
    "        \"est_proportion\": prop_p2\n",
    "    },\n",
    "    {\n",
    "        \"name\": \"P3_InitAccess_BenignPos\",\n",
    "        \"filter_expr\": cond_p3,\n",
    "        \"est_proportion\": prop_p3\n",
    "    },\n",
    "    {\n",
    "        \"name\": \"P4_InitAccess_FalsePos\",\n",
    "        \"filter_expr\": cond_p4,\n",
    "        \"est_proportion\": prop_p4\n",
    "    },\n",
    "    {\n",
    "        \"name\": \"P5_CmdCtrl_BenignPos\",\n",
    "        \"filter_expr\": cond_p5,\n",
    "        \"est_proportion\": prop_p5\n",
    "     },\n",
    "     {\n",
    "        \"name\": \"P6_SuspAct_BenignPos\",\n",
    "        \"filter_expr\": cond_p6,\n",
    "        \"est_proportion\": prop_p6\n",
    "     }\n",
    "]\n",
    "\n",
    "print(\"Reglas de particionamiento definidas:\")\n",
    "total_prop_check = 0\n",
    "for rule in partition_rules:\n",
    "    print(f\"- {rule['name']}: Estimación {rule['est_proportion']:.4%}\")\n",
    "    total_prop_check += rule['est_proportion']\n",
    "print(f\"\\nSuma total de proporciones estimadas: {total_prop_check:.4f}\")"
   ]
  },
  {
   "cell_type": "markdown",
   "id": "3b28751e-1641-432f-8e52-981bab1b9655",
   "metadata": {},
   "source": [
    "## Paso 3: Implementación del Filtrado por Partición"
   ]
  },
  {
   "cell_type": "code",
   "execution_count": 21,
   "id": "ec8d76ed-6ab5-43e0-90bd-85680acec487",
   "metadata": {},
   "outputs": [
    {
     "name": "stdout",
     "output_type": "stream",
     "text": [
      "\n",
      "Filtrando para la partición: P1_InitAccess_TruePos\n",
      "Condición: Column<'((Category = InitialAccess) AND (IncidentGrade = TruePositive))'>\n",
      "Verificación para P1_InitAccess_TruePos:\n",
      "+-------------+-----+----------+-------+-------------------+----------+----------+-------------+---------------+-------------+-------------+--------------+-----------------+------------+--------+------+---------+------+----------+----------+---------------+-----------+----------+----------------+--------------+-----------+-----------------+-----------------+-------------+---------------+------------------+------------+--------+----------+--------------+------------+-----+--------+---------+-----------------+--------------+-----------+-----------+-----+-----+\n",
      "|Id           |OrgId|IncidentId|AlertId|Timestamp          |DetectorId|AlertTitle|Category     |MitreTechniques|IncidentGrade|ActionGrouped|ActionGranular|EntityType       |EvidenceRole|DeviceId|Sha256|IpAddress|Url   |AccountSid|AccountUpn|AccountObjectId|AccountName|DeviceName|NetworkMessageId|EmailClusterId|RegistryKey|RegistryValueName|RegistryValueData|ApplicationId|ApplicationName|OAuthApplicationId|ThreatFamily|FileName|FolderPath|ResourceIdName|ResourceType|Roles|OSFamily|OSVersion|AntispamDirection|SuspicionLevel|LastVerdict|CountryCode|State|City |\n",
      "+-------------+-----+----------+-------+-------------------+----------+----------+-------------+---------------+-------------+-------------+--------------+-----------------+------------+--------+------+---------+------+----------+----------+---------------+-----------+----------+----------------+--------------+-----------+-----------------+-----------------+-------------+---------------+------------------+------------+--------+----------+--------------+------------+-----+--------+---------+-----------------+--------------+-----------+-----------+-----+-----+\n",
      "|180388628218 |0    |612       |123247 |2024-06-04 00:05:15|7         |6         |InitialAccess|NULL           |TruePositive |NULL         |NULL          |Ip               |Related     |98799   |138268|27       |160396|441377    |673934    |425863         |453297     |153085    |529644          |NULL          |1631       |635              |860              |2251         |3421           |881               |NULL        |289573  |117668    |3586          |NULL        |NULL |5       |66       |NULL             |NULL          |NULL       |31         |6    |3    |\n",
      "|1073741827836|72   |70        |831157 |2024-06-07 20:08:01|4         |3         |InitialAccess|NULL           |TruePositive |NULL         |NULL          |User             |Impacted    |98799   |138268|360606   |160396|4070      |5532      |4086           |4256       |153085    |529644          |NULL          |1631       |635              |860              |2251         |3421           |881               |NULL        |289573  |117668    |3586          |NULL        |NULL |5       |66       |NULL             |NULL          |NULL       |242        |1445 |10630|\n",
      "|1305670059931|23   |107       |409854 |2024-06-05 18:27:12|4         |3         |InitialAccess|NULL           |TruePositive |NULL         |NULL          |Ip               |Related     |98799   |138268|279      |160396|441377    |673934    |425863         |453297     |153085    |529644          |NULL          |1631       |635              |860              |2251         |3421           |881               |NULL        |289573  |117668    |3586          |NULL        |NULL |5       |66       |NULL             |NULL          |NULL       |7          |50   |46   |\n",
      "|824633723860 |75   |478       |939479 |2024-06-03 08:37:16|4         |3         |InitialAccess|NULL           |TruePositive |NULL         |NULL          |CloudLogonRequest|Related     |98799   |138268|360606   |160396|441377    |673934    |425863         |453297     |153085    |529644          |NULL          |1631       |635              |860              |2251         |3421           |881               |NULL        |289573  |117668    |3586          |NULL        |NULL |5       |66       |NULL             |NULL          |NULL       |242        |1445 |10630|\n",
      "|489626273557 |0    |211       |160158 |2024-06-11 02:26:58|0         |0         |InitialAccess|T1078;T1078.004|TruePositive |NULL         |NULL          |CloudLogonRequest|Related     |98799   |138268|360606   |160396|441377    |673934    |425863         |453297     |153085    |529644          |NULL          |1631       |635              |860              |2251         |3421           |881               |NULL        |289573  |117668    |3586          |NULL        |NULL |5       |66       |NULL             |NULL          |NULL       |242        |1445 |10630|\n",
      "+-------------+-----+----------+-------+-------------------+----------+----------+-------------+---------------+-------------+-------------+--------------+-----------------+------------+--------+------+---------+------+----------+----------+---------------+-----------+----------+----------------+--------------+-----------+-----------------+-----------------+-------------+---------------+------------------+------------+--------+----------+--------------+------------+-----+--------+---------+-----------------+--------------+-----------+-----------+-----+-----+\n",
      "only showing top 5 rows\n",
      "\n",
      "Registros encontrados en P1_InitAccess_TruePos: 2266513\n",
      "\n",
      "Filtrando para la partición: P2_Exfiltration_BenignPos\n",
      "Condición: Column<'((Category = Exfiltration) AND (IncidentGrade = BenignPositive))'>\n",
      "Verificación para P2_Exfiltration_BenignPos:\n",
      "+-------------+-----+----------+-------+-------------------+----------+----------+------------+---------------+--------------+-------------+--------------+-----------+------------+--------+------+---------+------+----------+----------+---------------+-----------+----------+----------------+--------------+-----------+-----------------+-----------------+-------------+---------------+------------------+------------+--------+----------+--------------+------------+-----+--------+---------+-----------------+--------------+-----------+-----------+-----+-----+\n",
      "|Id           |OrgId|IncidentId|AlertId|Timestamp          |DetectorId|AlertTitle|Category    |MitreTechniques|IncidentGrade |ActionGrouped|ActionGranular|EntityType |EvidenceRole|DeviceId|Sha256|IpAddress|Url   |AccountSid|AccountUpn|AccountObjectId|AccountName|DeviceName|NetworkMessageId|EmailClusterId|RegistryKey|RegistryValueName|RegistryValueData|ApplicationId|ApplicationName|OAuthApplicationId|ThreatFamily|FileName|FolderPath|ResourceIdName|ResourceType|Roles|OSFamily|OSVersion|AntispamDirection|SuspicionLevel|LastVerdict|CountryCode|State|City |\n",
      "+-------------+-----+----------+-------+-------------------+----------+----------+------------+---------------+--------------+-------------+--------------+-----------+------------+--------+------+---------+------+----------+----------+---------------+-----------+----------+----------------+--------------+-----------+-----------------+-----------------+-------------+---------------+------------------+------------+--------+----------+--------------+------------+-----+--------+---------+-----------------+--------------+-----------+-----------+-----+-----+\n",
      "|1400159339557|125  |38679     |47423  |2024-06-06 07:39:23|313       |3919      |Exfiltration|NULL           |BenignPositive|NULL         |NULL          |MailMessage|Impacted    |98799   |138268|360606   |160396|441377    |34744     |425863         |453297     |153085    |1082            |NULL          |1631       |635              |860              |2251         |3421           |881               |NULL        |289573  |117668    |3586          |NULL        |NULL |5       |66       |NULL             |NULL          |NULL       |242        |1445 |10630|\n",
      "|1340029797776|592  |53360     |215453 |2024-06-13 07:21:39|933       |9966      |Exfiltration|NULL           |BenignPositive|NULL         |NULL          |File       |Impacted    |98799   |10713 |360606   |160396|441377    |673934    |425863         |453297     |153085    |529644          |NULL          |1631       |635              |860              |2251         |3421           |881               |NULL        |12633   |3509      |3586          |NULL        |NULL |5       |66       |NULL             |NULL          |NULL       |242        |1445 |10630|\n",
      "|1486058685492|16   |203600    |643809 |2024-06-06 15:41:15|24        |30456     |Exfiltration|NULL           |BenignPositive|NULL         |NULL          |MailMessage|Impacted    |98799   |138268|360606   |160396|441377    |144634    |425863         |453297     |153085    |316961          |NULL          |1631       |635              |860              |2251         |3421           |881               |NULL        |289573  |117668    |3586          |NULL        |NULL |5       |66       |NULL             |NULL          |NULL       |242        |1445 |10630|\n",
      "|1374389538210|2    |11288     |3523   |2024-06-11 07:35:10|15        |13        |Exfiltration|NULL           |BenignPositive|NULL         |NULL          |File       |Impacted    |98799   |138268|360606   |160396|441377    |673934    |425863         |453297     |153085    |529644          |NULL          |1631       |635              |860              |2251         |3421           |881               |NULL        |125392  |17280     |3586          |NULL        |NULL |5       |66       |NULL             |NULL          |NULL       |242        |1445 |10630|\n",
      "|1245540520650|91   |628       |36262  |2024-06-02 22:41:37|180       |15309     |Exfiltration|NULL           |BenignPositive|NULL         |NULL          |Ip         |Related     |98799   |138268|646      |160396|441377    |673934    |425863         |453297     |153085    |529644          |NULL          |1631       |635              |860              |2251         |3421           |881               |NULL        |289573  |117668    |3586          |NULL        |NULL |5       |66       |NULL             |NULL          |NULL       |242        |1445 |10630|\n",
      "+-------------+-----+----------+-------+-------------------+----------+----------+------------+---------------+--------------+-------------+--------------+-----------+------------+--------+------+---------+------+----------+----------+---------------+-----------+----------+----------------+--------------+-----------+-----------------+-----------------+-------------+---------------+------------------+------------+--------+----------+--------------+------------+-----+--------+---------+-----------------+--------------+-----------+-----------+-----+-----+\n",
      "only showing top 5 rows\n",
      "\n",
      "Registros encontrados en P2_Exfiltration_BenignPos: 1080813\n",
      "\n",
      "Filtrando para la partición: P3_InitAccess_BenignPos\n",
      "Condición: Column<'((Category = InitialAccess) AND (IncidentGrade = BenignPositive))'>\n",
      "Verificación para P3_InitAccess_BenignPos:\n",
      "+-------------+-----+----------+-------+-------------------+----------+----------+-------------+---------------+--------------+-------------+--------------+-------------+------------+--------+------+---------+------+----------+----------+---------------+-----------+----------+----------------+--------------+-----------+-----------------+-----------------+-------------+---------------+------------------+------------+--------+----------+--------------+---------------+-----+--------+---------+-----------------+--------------+--------------+-----------+-----+-----+\n",
      "|Id           |OrgId|IncidentId|AlertId|Timestamp          |DetectorId|AlertTitle|Category     |MitreTechniques|IncidentGrade |ActionGrouped|ActionGranular|EntityType   |EvidenceRole|DeviceId|Sha256|IpAddress|Url   |AccountSid|AccountUpn|AccountObjectId|AccountName|DeviceName|NetworkMessageId|EmailClusterId|RegistryKey|RegistryValueName|RegistryValueData|ApplicationId|ApplicationName|OAuthApplicationId|ThreatFamily|FileName|FolderPath|ResourceIdName|ResourceType   |Roles|OSFamily|OSVersion|AntispamDirection|SuspicionLevel|LastVerdict   |CountryCode|State|City |\n",
      "+-------------+-----+----------+-------+-------------------+----------+----------+-------------+---------------+--------------+-------------+--------------+-------------+------------+--------+------+---------+------+----------+----------+---------------+-----------+----------+----------------+--------------+-----------+-----------------+-----------------+-------------+---------------+------------------+------------+--------+----------+--------------+---------------+-----+--------+---------+-----------------+--------------+--------------+-----------+-----+-----+\n",
      "|652835032220 |376  |93925     |289288 |2024-06-12 08:00:08|447       |473       |InitialAccess|NULL           |BenignPositive|NULL         |NULL          |AzureResource|Impacted    |17769   |138268|360606   |160396|441377    |673934    |425863         |453297     |25710     |529644          |NULL          |1631       |635              |860              |2251         |3421           |881               |NULL        |289573  |117668    |251           |Virtual Machine|NULL |5       |66       |NULL             |NULL          |NULL          |242        |1445 |10630|\n",
      "|781684051738 |2119 |6622      |23284  |2024-06-10 04:28:29|13        |11        |InitialAccess|T1566          |BenignPositive|NULL         |NULL          |MailMessage  |Related     |98799   |138268|360606   |160396|441377    |160691    |425863         |453297     |153085    |1842            |NULL          |1631       |635              |860              |2251         |3421           |881               |NULL        |289573  |117668    |3586          |NULL           |NULL |5       |66       |NULL             |NULL          |NULL          |242        |1445 |10630|\n",
      "|1365799604919|428  |54837     |239519 |2024-06-08 22:11:51|1         |1         |InitialAccess|T1566.002      |BenignPositive|NULL         |NULL          |Url          |Related     |98799   |138268|360606   |1557  |441377    |673934    |425863         |453297     |153085    |529644          |NULL          |1631       |635              |860              |2251         |3421           |881               |NULL        |289573  |117668    |3586          |NULL           |NULL |5       |66       |NULL             |NULL          |Malicious     |242        |1445 |10630|\n",
      "|755914246870 |789  |46895     |147425 |2024-06-04 14:48:03|6         |5         |InitialAccess|T1566          |BenignPositive|NULL         |NULL          |MailMessage  |Related     |98799   |138268|360606   |160396|441377    |1035      |425863         |453297     |153085    |285810          |NULL          |1631       |635              |860              |2251         |3421           |881               |NULL        |289573  |117668    |3586          |NULL           |NULL |5       |66       |Inbound          |NULL          |NoThreatsFound|242        |1445 |10630|\n",
      "|1683627183859|68   |125436    |462477 |2024-06-11 12:52:33|6         |5         |InitialAccess|T1566          |BenignPositive|NULL         |NULL          |Mailbox      |Impacted    |98799   |138268|360606   |160396|63316     |57707     |59030          |65131      |153085    |529644          |NULL          |1631       |635              |860              |2251         |3421           |881               |NULL        |289573  |117668    |3586          |NULL           |NULL |5       |66       |NULL             |NULL          |NoThreatsFound|242        |1445 |10630|\n",
      "+-------------+-----+----------+-------+-------------------+----------+----------+-------------+---------------+--------------+-------------+--------------+-------------+------------+--------+------+---------+------+----------+----------+---------------+-----------+----------+----------------+--------------+-----------+-----------------+-----------------+-------------+---------------+------------------+------------+--------+----------+--------------+---------------+-----+--------+---------+-----------------+--------------+--------------+-----------+-----+-----+\n",
      "only showing top 5 rows\n",
      "\n",
      "Registros encontrados en P3_InitAccess_BenignPos: 1063722\n",
      "\n",
      "Filtrando para la partición: P4_InitAccess_FalsePos\n",
      "Condición: Column<'((Category = InitialAccess) AND (IncidentGrade = FalsePositive))'>\n",
      "Verificación para P4_InitAccess_FalsePos:\n",
      "+-------------+-----+----------+-------+-------------------+----------+----------+-------------+---------------+-------------+-------------+--------------+-----------------+------------+--------+------+---------+------+----------+----------+---------------+-----------+----------+----------------+--------------+-----------+-----------------+-----------------+-------------+---------------+------------------+------------+--------+----------+--------------+------------+-----+--------+---------+-----------------+--------------+-----------+-----------+-----+-----+\n",
      "|Id           |OrgId|IncidentId|AlertId|Timestamp          |DetectorId|AlertTitle|Category     |MitreTechniques|IncidentGrade|ActionGrouped|ActionGranular|EntityType       |EvidenceRole|DeviceId|Sha256|IpAddress|Url   |AccountSid|AccountUpn|AccountObjectId|AccountName|DeviceName|NetworkMessageId|EmailClusterId|RegistryKey|RegistryValueName|RegistryValueData|ApplicationId|ApplicationName|OAuthApplicationId|ThreatFamily|FileName|FolderPath|ResourceIdName|ResourceType|Roles|OSFamily|OSVersion|AntispamDirection|SuspicionLevel|LastVerdict|CountryCode|State|City |\n",
      "+-------------+-----+----------+-------+-------------------+----------+----------+-------------+---------------+-------------+-------------+--------------+-----------------+------------+--------+------+---------+------+----------+----------+---------------+-----------+----------+----------------+--------------+-----------+-----------------+-----------------+-------------+---------------+------------------+------------+--------+----------+--------------+------------+-----+--------+---------+-----------------+--------------+-----------+-----------+-----+-----+\n",
      "|1056561957389|809  |58352     |712507 |2024-06-12 22:52:55|423       |298       |InitialAccess|T1189          |FalsePositive|NULL         |NULL          |Url              |Related     |98799   |138268|360606   |68652 |441377    |673934    |425863         |453297     |153085    |529644          |NULL          |1631       |635              |860              |2251         |3421           |881               |NULL        |289573  |117668    |3586          |NULL        |NULL |5       |66       |NULL             |Suspicious    |Suspicious |242        |1445 |10630|\n",
      "|1322849927433|11   |417400    |825450 |2024-06-10 07:30:56|0         |0         |InitialAccess|T1078;T1078.004|FalsePositive|NULL         |NULL          |Ip               |Related     |98799   |138268|30410    |160396|441377    |673934    |425863         |453297     |153085    |529644          |NULL          |1631       |635              |860              |2251         |3421           |881               |NULL        |289573  |117668    |3586          |NULL        |NULL |5       |66       |NULL             |NULL          |NULL       |8          |6    |3    |\n",
      "|1305670062855|4    |2640      |327    |2024-05-29 17:53:19|8         |7         |InitialAccess|T1133          |FalsePositive|NULL         |NULL          |Machine          |Impacted    |98799   |138268|360606   |160396|441377    |673934    |425863         |453297     |182       |529644          |NULL          |1631       |635              |860              |2251         |3421           |881               |NULL        |289573  |117668    |3586          |NULL        |NULL |5       |66       |NULL             |NULL          |NULL       |242        |1445 |10630|\n",
      "|335007451478 |206  |251904    |1009993|2024-06-13 10:51:53|0         |0         |InitialAccess|T1078;T1078.004|FalsePositive|NULL         |NULL          |CloudLogonRequest|Related     |98799   |138268|360606   |160396|441377    |673934    |425863         |453297     |153085    |529644          |NULL          |1631       |635              |860              |2251         |3421           |881               |NULL        |289573  |117668    |3586          |NULL        |NULL |5       |66       |NULL             |NULL          |NULL       |242        |1445 |10630|\n",
      "|541165884137 |4    |2624      |487    |2024-05-24 16:23:41|8         |7         |InitialAccess|T1133          |FalsePositive|NULL         |NULL          |Machine          |Impacted    |98799   |138268|360606   |160396|441377    |673934    |425863         |453297     |263       |529644          |NULL          |1631       |635              |860              |2251         |3421           |881               |NULL        |289573  |117668    |3586          |NULL        |NULL |5       |66       |NULL             |NULL          |NULL       |242        |1445 |10630|\n",
      "+-------------+-----+----------+-------+-------------------+----------+----------+-------------+---------------+-------------+-------------+--------------+-----------------+------------+--------+------+---------+------+----------+----------+---------------+-----------+----------+----------------+--------------+-----------+-----------------+-----------------+-------------+---------------+------------------+------------+--------+----------+--------------+------------+-----+--------+---------+-----------------+--------------+-----------+-----------+-----+-----+\n",
      "only showing top 5 rows\n",
      "\n",
      "Registros encontrados en P4_InitAccess_FalsePos: 954880\n",
      "\n",
      "Filtrando para la partición: P5_CmdCtrl_BenignPos\n",
      "Condición: Column<'((Category = CommandAndControl) AND (IncidentGrade = BenignPositive))'>\n",
      "Verificación para P5_CmdCtrl_BenignPos:\n",
      "+-------------+-----+----------+-------+-------------------+----------+----------+-----------------+---------------+--------------+-------------+--------------+----------+------------+--------+------+---------+------+----------+----------+---------------+-----------+----------+----------------+--------------+-----------+-----------------+-----------------+-------------+---------------+------------------+------------+--------+----------+--------------+------------+-----+--------+---------+-----------------+--------------+-----------+-----------+-----+-----+\n",
      "|Id           |OrgId|IncidentId|AlertId|Timestamp          |DetectorId|AlertTitle|Category         |MitreTechniques|IncidentGrade |ActionGrouped|ActionGranular|EntityType|EvidenceRole|DeviceId|Sha256|IpAddress|Url   |AccountSid|AccountUpn|AccountObjectId|AccountName|DeviceName|NetworkMessageId|EmailClusterId|RegistryKey|RegistryValueName|RegistryValueData|ApplicationId|ApplicationName|OAuthApplicationId|ThreatFamily|FileName|FolderPath|ResourceIdName|ResourceType|Roles|OSFamily|OSVersion|AntispamDirection|SuspicionLevel|LastVerdict|CountryCode|State|City |\n",
      "+-------------+-----+----------+-------+-------------------+----------+----------+-----------------+---------------+--------------+-------------+--------------+----------+------------+--------+------+---------+------+----------+----------+---------------+-----------+----------+----------------+--------------+-----------+-----------------+-----------------+-------------+---------------+------------------+------------+--------+----------+--------------+------------+-----+--------+---------+-----------------+--------------+-----------+-----------+-----+-----+\n",
      "|1279900258736|92   |32992     |774301 |2024-06-10 10:39:36|2         |2         |CommandAndControl|NULL           |BenignPositive|NULL         |NULL          |Url       |Related     |98799   |138268|360606   |13    |441377    |673934    |425863         |453297     |153085    |529644          |NULL          |1631       |635              |860              |2251         |3421           |881               |NULL        |289573  |117668    |3586          |NULL        |NULL |5       |66       |NULL             |Suspicious    |Suspicious |242        |1445 |10630|\n",
      "|163208760309 |522  |566       |705663 |2024-06-14 17:19:45|2         |2         |CommandAndControl|NULL           |BenignPositive|NULL         |NULL          |Url       |Related     |98799   |138268|360606   |3306  |441377    |673934    |425863         |453297     |153085    |529644          |NULL          |1631       |635              |860              |2251         |3421           |881               |NULL        |289573  |117668    |3586          |NULL        |NULL |5       |66       |NULL             |Suspicious    |Suspicious |242        |1445 |10630|\n",
      "|1546188229482|34   |329953    |709535 |2024-06-05 14:45:37|2         |2         |CommandAndControl|NULL           |BenignPositive|NULL         |NULL          |User      |Impacted    |98799   |138268|360606   |160396|30614     |50597     |31131          |33321      |153085    |529644          |NULL          |1631       |635              |860              |2251         |3421           |881               |NULL        |289573  |117668    |3586          |NULL        |NULL |5       |66       |NULL             |Suspicious    |Suspicious |242        |1445 |10630|\n",
      "|764504181928 |289  |155197    |250634 |2024-06-05 06:56:03|2         |2         |CommandAndControl|NULL           |BenignPositive|NULL         |NULL          |Process   |Related     |98799   |0     |360606   |160396|441377    |673934    |425863         |453297     |153085    |529644          |NULL          |1631       |635              |860              |2251         |3421           |881               |NULL        |0       |2         |3586          |NULL        |NULL |5       |66       |NULL             |Suspicious    |Suspicious |242        |1445 |10630|\n",
      "|1683627184888|133  |17504     |757941 |2024-06-11 05:38:20|2         |2         |CommandAndControl|NULL           |BenignPositive|NULL         |NULL          |Process   |Related     |98799   |0     |360606   |160396|441377    |673934    |425863         |453297     |153085    |529644          |NULL          |1631       |635              |860              |2251         |3421           |881               |NULL        |0       |4         |3586          |NULL        |NULL |5       |66       |NULL             |Suspicious    |Suspicious |242        |1445 |10630|\n",
      "+-------------+-----+----------+-------+-------------------+----------+----------+-----------------+---------------+--------------+-------------+--------------+----------+------------+--------+------+---------+------+----------+----------+---------------+-----------+----------+----------------+--------------+-----------+-----------------+-----------------+-------------+---------------+------------------+------------+--------+----------+--------------+------------+-----+--------+---------+-----------------+--------------+-----------+-----------+-----+-----+\n",
      "only showing top 5 rows\n",
      "\n",
      "Registros encontrados en P5_CmdCtrl_BenignPos: 563544\n",
      "\n",
      "Filtrando para la partición: P6_SuspAct_BenignPos\n",
      "Condición: Column<'((Category = SuspiciousActivity) AND (IncidentGrade = BenignPositive))'>\n",
      "Verificación para P6_SuspAct_BenignPos:\n",
      "+-------------+-----+----------+-------+-------------------+----------+----------+------------------+---------------+--------------+-------------+--------------+----------------+------------+--------+------+---------+------+----------+----------+---------------+-----------+----------+----------------+--------------+-----------+-----------------+-----------------+-------------+---------------+------------------+------------+--------+----------+--------------+------------+----------+--------+---------+-----------------+--------------+-----------+-----------+-----+-----+\n",
      "|Id           |OrgId|IncidentId|AlertId|Timestamp          |DetectorId|AlertTitle|Category          |MitreTechniques|IncidentGrade |ActionGrouped|ActionGranular|EntityType      |EvidenceRole|DeviceId|Sha256|IpAddress|Url   |AccountSid|AccountUpn|AccountObjectId|AccountName|DeviceName|NetworkMessageId|EmailClusterId|RegistryKey|RegistryValueName|RegistryValueData|ApplicationId|ApplicationName|OAuthApplicationId|ThreatFamily|FileName|FolderPath|ResourceIdName|ResourceType|Roles     |OSFamily|OSVersion|AntispamDirection|SuspicionLevel|LastVerdict|CountryCode|State|City |\n",
      "+-------------+-----+----------+-------+-------------------+----------+----------+------------------+---------------+--------------+-------------+--------------+----------------+------------+--------+------+---------+------+----------+----------+---------------+-----------+----------+----------------+--------------+-----------+-----------------+-----------------+-------------+---------------+------------------+------------+--------+----------+--------------+------------+----------+--------+---------+-----------------+--------------+-----------+-----------+-----+-----+\n",
      "|1219770713645|21   |414       |197969 |2024-06-09 04:21:29|3         |4         |SuspiciousActivity|NULL           |BenignPositive|NULL         |NULL          |Process         |Related     |98799   |0     |360606   |160396|441377    |673934    |425863         |453297     |153085    |529644          |NULL          |1631       |635              |860              |2251         |3421           |881               |NULL        |0       |1694      |3586          |NULL        |NULL      |5       |66       |NULL             |Suspicious    |Suspicious |242        |1445 |10630|\n",
      "|223338303172 |201  |86074     |573023 |2024-06-08 23:56:32|5         |97        |SuspiciousActivity|NULL           |BenignPositive|NULL         |NULL          |Ip              |Related     |98799   |138268|80       |160396|441377    |673934    |425863         |453297     |153085    |529644          |NULL          |1631       |635              |860              |2251         |3421           |881               |NULL        |289573  |117668    |3586          |NULL        |Contextual|5       |66       |NULL             |NULL          |NULL       |242        |1445 |10630|\n",
      "|60129545540  |59   |518657    |1381976|2024-06-07 07:17:03|5         |267       |SuspiciousActivity|NULL           |BenignPositive|NULL         |NULL          |User            |Impacted    |98799   |138268|360606   |160396|95485     |159687    |90066          |267319     |153085    |529644          |NULL          |1631       |635              |860              |2251         |3421           |881               |NULL        |289573  |117668    |3586          |NULL        |NULL      |5       |66       |NULL             |NULL          |NULL       |242        |1445 |10630|\n",
      "|901943136091 |734  |178669    |580340 |2024-06-10 20:59:41|5         |2409      |SuspiciousActivity|NULL           |BenignPositive|NULL         |NULL          |User            |Impacted    |98799   |138268|360606   |160396|85402     |122706    |81578          |84213      |153085    |529644          |NULL          |1631       |635              |860              |2251         |3421           |881               |NULL        |289573  |117668    |3586          |NULL        |NULL      |5       |66       |NULL             |NULL          |NULL       |242        |1445 |10630|\n",
      "|94489281077  |246  |594101    |1671417|2024-06-12 03:56:03|5         |49        |SuspiciousActivity|NULL           |BenignPositive|NULL         |NULL          |CloudApplication|Impacted    |98799   |138268|360606   |160396|441377    |673934    |425863         |453297     |153085    |529644          |NULL          |1631       |635              |860              |5            |5              |881               |NULL        |289573  |117668    |3586          |NULL        |NULL      |5       |66       |NULL             |NULL          |NULL       |242        |1445 |10630|\n",
      "+-------------+-----+----------+-------+-------------------+----------+----------+------------------+---------------+--------------+-------------+--------------+----------------+------------+--------+------+---------+------+----------+----------+---------------+-----------+----------+----------------+--------------+-----------+-----------------+-----------------+-------------+---------------+------------------+------------+--------+----------+--------------+------------+----------+--------+---------+-----------------+--------------+-----------+-----------+-----+-----+\n",
      "only showing top 5 rows\n",
      "\n",
      "Registros encontrados en P6_SuspAct_BenignPos: 507279\n"
     ]
    }
   ],
   "source": [
    "partition_dfs = {} # Diccionario para guardar los dataframes de cada partición\n",
    "\n",
    "for rule in partition_rules:\n",
    "    partition_name = rule['name']\n",
    "    filter_condition = rule['filter_expr']\n",
    "\n",
    "    print(f\"\\nFiltrando para la partición: {partition_name}\")\n",
    "    print(f\"Condición: {filter_condition}\")\n",
    "    \n",
    "    partition_df = df.filter(filter_condition)\n",
    "    partition_dfs[partition_name] = partition_df\n",
    "    \n",
    "    print(f\"Verificación para {partition_name}:\")\n",
    "    partition_df.show(5, truncate=False)\n",
    "    count_partition = partition_df.count()\n",
    "    print(f\"Registros encontrados en {partition_name}: {count_partition}\")"
   ]
  }
 ],
 "metadata": {
  "kernelspec": {
   "display_name": "Python 3 (ipykernel)",
   "language": "python",
   "name": "python3"
  },
  "language_info": {
   "codemirror_mode": {
    "name": "ipython",
    "version": 3
   },
   "file_extension": ".py",
   "mimetype": "text/x-python",
   "name": "python",
   "nbconvert_exporter": "python",
   "pygments_lexer": "ipython3",
   "version": "3.12.9"
  }
 },
 "nbformat": 4,
 "nbformat_minor": 5
}
